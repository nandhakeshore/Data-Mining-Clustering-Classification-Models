{
 "cells": [
  {
   "cell_type": "code",
   "execution_count": 4,
   "id": "a9740b90",
   "metadata": {},
   "outputs": [],
   "source": [
    "import numpy as np\n",
    "import pandas as pd\n",
    "import seaborn as sns\n",
    "import matplotlib.pyplot as plt"
   ]
  },
  {
   "cell_type": "markdown",
   "id": "89160ebd",
   "metadata": {},
   "source": [
    "## Problem 1: Clustering\n",
    "\n",
    "A leading bank wants to develop a customer segmentation to give promotional offers to its customers. They collected a sample that summarizes the activities of users during the past few months. You are given the task to identify the segments based on credit card usage.\n",
    "\n"
   ]
  },
  {
   "cell_type": "markdown",
   "id": "c80f2277",
   "metadata": {},
   "source": [
    "\n",
    "## 1.1 Read the data, do the necessary initial steps, and exploratory data analysis (Univariate, Bi-variate, and multivariate analysis)."
   ]
  },
  {
   "cell_type": "markdown",
   "id": "8a4af5b0",
   "metadata": {},
   "source": [
    "1.1 \\\n",
    "Read the data and do exploratory data analysis (3 pts). \n",
    "\n",
    "Describe the data briefly. Interpret the inferences for each (3 pts). \n",
    "\n",
    "#Initial steps like head() .info(), Data Types, etc . \n",
    "\n",
    "#Null value check. \n",
    "\n",
    "#Distribution plots(histogram) or similar plots for the continuous columns.\n",
    "\n",
    "#Box plots, Correlation plots. Appropriate plots for categorical variables. Inferences on each plot. \n",
    "\n",
    "#Summary stats, Skewness, Outliers proportion should be discussed, and inferences from above used plots should be there. \n",
    "\n",
    "There is no restriction on how the learner wishes to implement this but the code should be able to represent the correct output and inferences should be logical and correct. \\\n",
    "6"
   ]
  },
  {
   "cell_type": "code",
   "execution_count": 42,
   "id": "79210f98",
   "metadata": {
    "scrolled": true
   },
   "outputs": [
    {
     "data": {
      "text/html": [
       "<div>\n",
       "<style scoped>\n",
       "    .dataframe tbody tr th:only-of-type {\n",
       "        vertical-align: middle;\n",
       "    }\n",
       "\n",
       "    .dataframe tbody tr th {\n",
       "        vertical-align: top;\n",
       "    }\n",
       "\n",
       "    .dataframe thead th {\n",
       "        text-align: right;\n",
       "    }\n",
       "</style>\n",
       "<table border=\"1\" class=\"dataframe\">\n",
       "  <thead>\n",
       "    <tr style=\"text-align: right;\">\n",
       "      <th></th>\n",
       "      <th>spending</th>\n",
       "      <th>advance_payments</th>\n",
       "      <th>probability_of_full_payment</th>\n",
       "      <th>current_balance</th>\n",
       "      <th>credit_limit</th>\n",
       "      <th>min_payment_amt</th>\n",
       "      <th>max_spent_in_single_shopping</th>\n",
       "    </tr>\n",
       "  </thead>\n",
       "  <tbody>\n",
       "    <tr>\n",
       "      <th>0</th>\n",
       "      <td>19.94</td>\n",
       "      <td>16.92</td>\n",
       "      <td>0.8752</td>\n",
       "      <td>6.675</td>\n",
       "      <td>3.763</td>\n",
       "      <td>3.252</td>\n",
       "      <td>6.550</td>\n",
       "    </tr>\n",
       "    <tr>\n",
       "      <th>1</th>\n",
       "      <td>15.99</td>\n",
       "      <td>14.89</td>\n",
       "      <td>0.9064</td>\n",
       "      <td>5.363</td>\n",
       "      <td>3.582</td>\n",
       "      <td>3.336</td>\n",
       "      <td>5.144</td>\n",
       "    </tr>\n",
       "    <tr>\n",
       "      <th>2</th>\n",
       "      <td>18.95</td>\n",
       "      <td>16.42</td>\n",
       "      <td>0.8829</td>\n",
       "      <td>6.248</td>\n",
       "      <td>3.755</td>\n",
       "      <td>3.368</td>\n",
       "      <td>6.148</td>\n",
       "    </tr>\n",
       "    <tr>\n",
       "      <th>3</th>\n",
       "      <td>10.83</td>\n",
       "      <td>12.96</td>\n",
       "      <td>0.8099</td>\n",
       "      <td>5.278</td>\n",
       "      <td>2.641</td>\n",
       "      <td>5.182</td>\n",
       "      <td>5.185</td>\n",
       "    </tr>\n",
       "    <tr>\n",
       "      <th>4</th>\n",
       "      <td>17.99</td>\n",
       "      <td>15.86</td>\n",
       "      <td>0.8992</td>\n",
       "      <td>5.890</td>\n",
       "      <td>3.694</td>\n",
       "      <td>2.068</td>\n",
       "      <td>5.837</td>\n",
       "    </tr>\n",
       "  </tbody>\n",
       "</table>\n",
       "</div>"
      ],
      "text/plain": [
       "   spending  advance_payments  probability_of_full_payment  current_balance  \\\n",
       "0     19.94             16.92                       0.8752            6.675   \n",
       "1     15.99             14.89                       0.9064            5.363   \n",
       "2     18.95             16.42                       0.8829            6.248   \n",
       "3     10.83             12.96                       0.8099            5.278   \n",
       "4     17.99             15.86                       0.8992            5.890   \n",
       "\n",
       "   credit_limit  min_payment_amt  max_spent_in_single_shopping  \n",
       "0         3.763            3.252                         6.550  \n",
       "1         3.582            3.336                         5.144  \n",
       "2         3.755            3.368                         6.148  \n",
       "3         2.641            5.182                         5.185  \n",
       "4         3.694            2.068                         5.837  "
      ]
     },
     "execution_count": 42,
     "metadata": {},
     "output_type": "execute_result"
    }
   ],
   "source": [
    "df_bank=pd.read_csv('bank_marketing_part1_Data.csv')\n",
    "df_bank.head()"
   ]
  },
  {
   "cell_type": "code",
   "execution_count": null,
   "id": "856e859d",
   "metadata": {
    "scrolled": true
   },
   "outputs": [],
   "source": [
    "df_bank.info()"
   ]
  },
  {
   "cell_type": "markdown",
   "id": "86dc7c48",
   "metadata": {},
   "source": [
    "There are no null values. \\\n",
    "All the features are numeric, no categorical variable present "
   ]
  },
  {
   "cell_type": "code",
   "execution_count": null,
   "id": "5e6bdf38",
   "metadata": {
    "scrolled": false
   },
   "outputs": [],
   "source": [
    "df_bank.dtypes"
   ]
  },
  {
   "cell_type": "markdown",
   "id": "b6640e37",
   "metadata": {},
   "source": [
    "All the features are numeric, no categorical variable present "
   ]
  },
  {
   "cell_type": "code",
   "execution_count": null,
   "id": "ed1066f0",
   "metadata": {},
   "outputs": [],
   "source": [
    "df_bank.shape"
   ]
  },
  {
   "cell_type": "markdown",
   "id": "555d2160",
   "metadata": {},
   "source": [
    "Total 210 records and 7 features are there in the given dataset"
   ]
  },
  {
   "cell_type": "code",
   "execution_count": null,
   "id": "e72d647e",
   "metadata": {
    "scrolled": false
   },
   "outputs": [],
   "source": [
    "df_bank.isna().sum()"
   ]
  },
  {
   "cell_type": "markdown",
   "id": "0b33f178",
   "metadata": {},
   "source": [
    "No null values across all the features"
   ]
  },
  {
   "cell_type": "code",
   "execution_count": null,
   "id": "49c4648b",
   "metadata": {},
   "outputs": [],
   "source": [
    "df_bank.duplicated().sum()"
   ]
  },
  {
   "cell_type": "markdown",
   "id": "1ff49d13",
   "metadata": {},
   "source": [
    "Threre are no duplicated records in the dataset"
   ]
  },
  {
   "cell_type": "markdown",
   "id": "f242bd4f",
   "metadata": {},
   "source": [
    "## Data Dictionary for Market Segmentation:\n",
    "\n",
    "1) spending: Amount spent by the customer per month (in 1000s)\\\n",
    "2) advance_payments: Amount paid by the customer in advance by cash (in 100s)\\\n",
    "3) probability_of_full_payment: Probability of payment done in full by the customer to the bank\\\n",
    "4) current_balance: Balance amount left in the account to make purchases (in 1000s)\\\n",
    "5) credit_limit: Limit of the amount in credit card (10000s)\\\n",
    "6) min_payment_amt : minimum paid by the customer while making payments for purchases made monthly (in 100s)\\\n",
    "7) max_spent_in_single_shopping: Maximum amount spent in one purchase (in 1000s)\n"
   ]
  },
  {
   "cell_type": "code",
   "execution_count": null,
   "id": "7c7fe30f",
   "metadata": {
    "scrolled": true
   },
   "outputs": [],
   "source": [
    "df_bank.describe().T"
   ]
  },
  {
   "cell_type": "markdown",
   "id": "2bfa21cd",
   "metadata": {},
   "source": [
    "1) Average spending is ~14.8 (1000s) per month by the customers\\\n",
    "2) Average credit_limit is ~3.25 (10000s) for all 210 customers "
   ]
  },
  {
   "cell_type": "code",
   "execution_count": null,
   "id": "d1e23514",
   "metadata": {},
   "outputs": [],
   "source": [
    "print('Average percentage of spendings per month for the available credit limit for the 210 customers is',(df_bank['spending'].mean())/(df_bank['credit_limit'].mean()*10)*100)"
   ]
  },
  {
   "cell_type": "markdown",
   "id": "5d421bed",
   "metadata": {},
   "source": [
    "3) On an average, 87.09% of customers are doing the full payment"
   ]
  },
  {
   "cell_type": "markdown",
   "id": "6d228154",
   "metadata": {},
   "source": [
    "4) It shows that average current balance is less on comparing to the average credit_limit, which indicates customers' spendings are more"
   ]
  },
  {
   "cell_type": "code",
   "execution_count": null,
   "id": "cc93d06b",
   "metadata": {},
   "outputs": [],
   "source": [
    "print('Average percentage of current_balance comparing to average credit_limit is',(df_bank['current_balance'].mean())/(df_bank['credit_limit'].mean()*10)*100)"
   ]
  },
  {
   "cell_type": "markdown",
   "id": "b2fb7dce",
   "metadata": {},
   "source": [
    "5) Maximum amount spent by a customer in single shopping is 6.55 (in 1000s)"
   ]
  },
  {
   "cell_type": "markdown",
   "id": "105ca375",
   "metadata": {},
   "source": [
    "6) On an average, minimum amount paid by customers while making purchases made monthly is ~3.70 (100s)"
   ]
  },
  {
   "cell_type": "markdown",
   "id": "49d32abb",
   "metadata": {},
   "source": [
    "7) On an average, ~14.55 (100s) amount paid by the customers in advance by cash"
   ]
  },
  {
   "cell_type": "markdown",
   "id": "893f64dd",
   "metadata": {},
   "source": [
    "8) Variation in the data is very minimum for all the features"
   ]
  },
  {
   "cell_type": "markdown",
   "id": "96eec6bf",
   "metadata": {},
   "source": [
    "## Data Pre-processing:"
   ]
  },
  {
   "cell_type": "markdown",
   "id": "59a683d9",
   "metadata": {},
   "source": [
    "There are no null values. \\\n",
    "All the features are numeric, no categorical variable present "
   ]
  },
  {
   "cell_type": "markdown",
   "id": "4c038584",
   "metadata": {},
   "source": [
    "Total 210 records and 7 features are there in the given dataset"
   ]
  },
  {
   "cell_type": "markdown",
   "id": "534cbfee",
   "metadata": {},
   "source": [
    "Threre are no duplicated records in the dataset"
   ]
  },
  {
   "cell_type": "markdown",
   "id": "b7768182",
   "metadata": {},
   "source": [
    "Anamolies are not observed in the dataset"
   ]
  },
  {
   "cell_type": "markdown",
   "id": "24f96eaf",
   "metadata": {},
   "source": [
    "## Data visualization"
   ]
  },
  {
   "cell_type": "markdown",
   "id": "433aa740",
   "metadata": {},
   "source": [
    "Univariate analysis"
   ]
  },
  {
   "cell_type": "code",
   "execution_count": null,
   "id": "26454035",
   "metadata": {},
   "outputs": [],
   "source": [
    "df_bank.hist(bins=10, figsize=(20,32), layout=(6,3))"
   ]
  },
  {
   "cell_type": "code",
   "execution_count": null,
   "id": "5b269d94",
   "metadata": {
    "scrolled": true
   },
   "outputs": [],
   "source": [
    "round(df_bank.skew(),2)"
   ]
  },
  {
   "cell_type": "markdown",
   "id": "92610e4c",
   "metadata": {},
   "source": [
    "'Spending', 'advance_payments', 'credit_limit', 'min_payment_amt' are normally distributed features\n",
    "\n",
    "'probability_of_full_payment' is slightly left skewed distribution\n",
    "\n",
    "'current_balance', 'max_spent_in_single_shopping' are slightly right skewed distributions"
   ]
  },
  {
   "cell_type": "markdown",
   "id": "07289f8a",
   "metadata": {},
   "source": [
    "Checking for outliers and its porportions:"
   ]
  },
  {
   "cell_type": "code",
   "execution_count": null,
   "id": "225390d6",
   "metadata": {
    "scrolled": true
   },
   "outputs": [],
   "source": [
    "plt.figure(figsize = (12,12))\n",
    "feature_list = df_bank.columns\n",
    "for i in range(len(feature_list)):\n",
    "    plt.subplot(3, 3, i + 1)\n",
    "    sns.boxplot(y = df_bank[feature_list[i]], data = df_bank)\n",
    "    plt.title('Boxplot of {}'.format(feature_list[i]))\n",
    "    plt.tight_layout()"
   ]
  },
  {
   "cell_type": "markdown",
   "id": "0e2aa7c4",
   "metadata": {},
   "source": [
    "Outliers are absent in all the features except for 'probability_of_full_payment', 'min_payment_amt' with very minimum outliers. \n",
    "\n",
    "'probability_of_full_payment' has outliers in lower range and 'min_payment_amt' has outliers in upper range \n",
    "\n",
    "Let us check how much proportion outliers are present in 'probability_of_full_payment', 'min_payment_amt'\n"
   ]
  },
  {
   "cell_type": "code",
   "execution_count": null,
   "id": "6d02e09c",
   "metadata": {},
   "outputs": [],
   "source": [
    "def remove_outlier(col):\n",
    "    sorted(col)\n",
    "    Q1,Q3=col.quantile([0.25,0.75])\n",
    "    IQR=Q3-Q1\n",
    "    lower_range= Q1-(1.5 * IQR)\n",
    "    upper_range= Q3+(1.5 * IQR)\n",
    "    return lower_range, upper_range    "
   ]
  },
  {
   "cell_type": "code",
   "execution_count": null,
   "id": "bfd41ef3",
   "metadata": {},
   "outputs": [],
   "source": [
    "#'probability_of_full_payment\n",
    "lr1,ur1=remove_outlier(df_bank['probability_of_full_payment'])\n",
    "print(\"lower range\",lr1, \"and upper range\", ur1)"
   ]
  },
  {
   "cell_type": "code",
   "execution_count": null,
   "id": "0429899f",
   "metadata": {
    "scrolled": true
   },
   "outputs": [],
   "source": [
    "df_bank[df_bank['probability_of_full_payment']<0.810587581]"
   ]
  },
  {
   "cell_type": "markdown",
   "id": "046568cc",
   "metadata": {},
   "source": [
    "We can clearly see, there are 3 outlier records out of 210 records in 'probability_of_full_payment' feature"
   ]
  },
  {
   "cell_type": "code",
   "execution_count": null,
   "id": "fc7248e5",
   "metadata": {},
   "outputs": [],
   "source": [
    "print('Outlier proportion for probability_of_full_payment feature is', (3/210)*100)"
   ]
  },
  {
   "cell_type": "code",
   "execution_count": null,
   "id": "169679ff",
   "metadata": {},
   "outputs": [],
   "source": [
    "#'min_payment_amt'\n",
    "lr2,ur2=remove_outlier(df_bank['min_payment_amt'])\n",
    "print(\"lower range\",lr2, \"and upper range\", ur2)"
   ]
  },
  {
   "cell_type": "code",
   "execution_count": null,
   "id": "2399d31c",
   "metadata": {},
   "outputs": [],
   "source": [
    "df_bank[df_bank['min_payment_amt']>8.079625]"
   ]
  },
  {
   "cell_type": "markdown",
   "id": "e985511b",
   "metadata": {},
   "source": [
    "There are 2 upper range outlier records in 'min_payment_amt'"
   ]
  },
  {
   "cell_type": "code",
   "execution_count": null,
   "id": "b420d388",
   "metadata": {},
   "outputs": [],
   "source": [
    "print('Outlier proportion for min_payment_amt feature is', (2/210)*100)"
   ]
  },
  {
   "cell_type": "markdown",
   "id": "e12fcae3",
   "metadata": {},
   "source": [
    "As we can see, there is very less proportion of outliers in the above discussed two features. So, we can skip the outlier treatment for this dataset"
   ]
  },
  {
   "cell_type": "markdown",
   "id": "02a04a43",
   "metadata": {},
   "source": [
    "Bivariate analysis:"
   ]
  },
  {
   "cell_type": "code",
   "execution_count": null,
   "id": "16a73d71",
   "metadata": {},
   "outputs": [],
   "source": [
    "sns.pairplot(df_bank);"
   ]
  },
  {
   "cell_type": "code",
   "execution_count": null,
   "id": "cae95693",
   "metadata": {},
   "outputs": [],
   "source": [
    "plt.figure(figsize=(12,8))\n",
    "sns.heatmap(df_bank.corr(),annot=True,fmt=\".2f\");"
   ]
  },
  {
   "cell_type": "markdown",
   "id": "cb090701",
   "metadata": {},
   "source": [
    "Insights:\n",
    "\n",
    "There is very good correlation between all the features except for below mentioned pairs:\n",
    "1) min_payment_amt has negative correlation with the all features\n",
    "\n",
    "2) 'probability_of_full_payment' is moderately correlated with 'spending', 'advance_payments', 'credit_limit', weakly correlated with 'current_balance', 'max_spent_in_single_shopping' and negatively correlated with 'min_payment_amt'"
   ]
  },
  {
   "cell_type": "markdown",
   "id": "6a52a8b5",
   "metadata": {},
   "source": [
    "Multivariate analysis is not possible for given dataset as we donot have any categorical variable"
   ]
  },
  {
   "cell_type": "code",
   "execution_count": null,
   "id": "dd396675",
   "metadata": {},
   "outputs": [],
   "source": []
  },
  {
   "cell_type": "code",
   "execution_count": null,
   "id": "956a35a7",
   "metadata": {},
   "outputs": [],
   "source": []
  },
  {
   "cell_type": "code",
   "execution_count": null,
   "id": "0c8834f0",
   "metadata": {},
   "outputs": [],
   "source": []
  },
  {
   "cell_type": "markdown",
   "id": "b35710e0",
   "metadata": {},
   "source": [
    "\n",
    "## 1.2  Do you think scaling is necessary for clustering in this case? Justify"
   ]
  },
  {
   "cell_type": "markdown",
   "id": "56e35d97",
   "metadata": {},
   "source": [
    "1.2 Do you think scaling is necessary for clustering in this case? \n",
    "\n",
    "Justify The learner is expected to check and comment about the difference in scale of different features on the bases of appropriate measure for example std dev, variance, etc.\n",
    "\n",
    "Should justify whether there is a necessity for scaling and which method is he/she using to do the scaling. Can also comment on how that method works.\\\n",
    "2"
   ]
  },
  {
   "cell_type": "code",
   "execution_count": null,
   "id": "732ccab0",
   "metadata": {},
   "outputs": [],
   "source": []
  },
  {
   "cell_type": "markdown",
   "id": "8b46acea",
   "metadata": {},
   "source": [
    "Scaling is necessary for clustering in this case because all of the numerical features are not on same weight. So we need to transform the features onto same scale. \n",
    "\n",
    "For example, \n",
    "\n",
    "1) features like 'spending', 'current_balance', 'max_spent_in_single_shopping' are on 1000s scale  \n",
    "\n",
    "2) features like 'advance_payments', 'min_payment_amt' are on 100s scale\n",
    "\n",
    "3) credit_limit is on 10000s scale\n",
    "\n",
    "4) 'probability_of_full_payment' feature is in range of 0 to 1"
   ]
  },
  {
   "cell_type": "markdown",
   "id": "1002786e",
   "metadata": {},
   "source": [
    "So, we should do the scaling for this dataset. \n",
    "\n",
    "Let us scale the data using 'zscale' method. This method scales the data in such a way that the mean value of the features tends to 0 and the standard deviation tends to 1\n"
   ]
  },
  {
   "cell_type": "code",
   "execution_count": null,
   "id": "1da5a47f",
   "metadata": {},
   "outputs": [],
   "source": [
    "from scipy.stats import zscore"
   ]
  },
  {
   "cell_type": "code",
   "execution_count": null,
   "id": "a9e83a6b",
   "metadata": {},
   "outputs": [],
   "source": [
    "df_bank_scaled = df_bank.apply(zscore)\n",
    "df_bank_scaled.head()"
   ]
  },
  {
   "cell_type": "markdown",
   "id": "f3f27021",
   "metadata": {},
   "source": [
    "Dataset has been scaled successfully."
   ]
  },
  {
   "cell_type": "code",
   "execution_count": null,
   "id": "fb9985a1",
   "metadata": {},
   "outputs": [],
   "source": []
  },
  {
   "cell_type": "markdown",
   "id": "54fc3b8c",
   "metadata": {},
   "source": [
    "\n",
    "## 1.3 Apply hierarchical clustering to scaled data. Identify the number of optimum clusters using Dendrogram and briefly describe them"
   ]
  },
  {
   "cell_type": "markdown",
   "id": "e46e1566",
   "metadata": {},
   "source": [
    "1.3 Apply hierarchical clustering to scaled data (3 pts). \n",
    "\n",
    "Identify the number of optimum clusters using Dendrogram and briefly describe them (4). \n",
    "\n",
    "Students are expected to apply hierarchical clustering. It can be obtained via Fclusters or Agglomerative Clustering. \n",
    "\n",
    "Report should talk about the used criterion, affinity and linkage. \n",
    "\n",
    "Report must contain a Dendrogram and a logical reason behind choosing the optimum number of clusters and Inferences on the dendrogram. \n",
    "\n",
    "Customer segmentation can be visualized using limited features or whole data but it should be clear, correct and logical. Use appropriate plots to visualize the clusters.\\\n",
    "7"
   ]
  },
  {
   "cell_type": "code",
   "execution_count": null,
   "id": "4abb51a1",
   "metadata": {},
   "outputs": [],
   "source": []
  },
  {
   "cell_type": "markdown",
   "id": "1d29d3db",
   "metadata": {},
   "source": [
    "Hierarchical clustering is applied on the scaled dataset. Clusters are created between the variables ‘spending’ and ‘current balance’ with a consideration that based on the spending and balance available, business can identify the customer profile from segmentation perspective."
   ]
  },
  {
   "cell_type": "code",
   "execution_count": null,
   "id": "fe7b00fc",
   "metadata": {},
   "outputs": [],
   "source": [
    "from scipy.cluster.hierarchy import dendrogram, linkage"
   ]
  },
  {
   "cell_type": "code",
   "execution_count": null,
   "id": "bde00fc5",
   "metadata": {},
   "outputs": [],
   "source": []
  },
  {
   "cell_type": "code",
   "execution_count": null,
   "id": "51943aa9",
   "metadata": {
    "scrolled": true
   },
   "outputs": [],
   "source": [
    "plt.figure(figsize=(18, 14))\n",
    "plt.title(\"Market Segmentation Dendograms\")\n",
    "wardlink = linkage(df_bank_scaled, method = 'ward')\n",
    "dend = dendrogram(wardlink)\n",
    "plt.xlabel('sample index or (cluster size)')\n",
    "plt.ylabel('distance')\n",
    "plt.show()"
   ]
  },
  {
   "cell_type": "code",
   "execution_count": null,
   "id": "9b61219a",
   "metadata": {
    "scrolled": true
   },
   "outputs": [],
   "source": [
    "plt.figure(figsize=(18, 8))\n",
    "plt.title('Heirarchical clustering dendrogram(truncated)')\n",
    "plt.xlabel('sample index or (cluster size)')\n",
    "plt.ylabel('distance')\n",
    "dend = dendrogram(wardlink,\n",
    "                 truncate_mode='lastp',\n",
    "                 p = 10,\n",
    "                 ) \n",
    "plt.show()"
   ]
  },
  {
   "cell_type": "markdown",
   "id": "ca299ba1",
   "metadata": {},
   "source": [
    "However as normally to understand the dataset, normally 2 clusters are not preferred because in most of the cases, business is already aware about the 2 classes in the dataset and hence to generate some more insights, segmentation with more than 2 clusters is preferred.\n",
    "\n",
    "As an example, for a bank dataset, bank would like to know more than ‘good’ and ‘not so good’ customers and hence more insight we are able to generate with more than 2 clusters, better it is for business.\n",
    "\n",
    "Hence let’s consider 3 clusters and plot the clusters to confirm if the desired clusters are providing the required segmentation details."
   ]
  },
  {
   "cell_type": "markdown",
   "id": "6fe535cd",
   "metadata": {},
   "source": [
    "Let us use scipy's Fcluster method:"
   ]
  },
  {
   "cell_type": "code",
   "execution_count": null,
   "id": "f92745a9",
   "metadata": {},
   "outputs": [],
   "source": [
    "from scipy.cluster.hierarchy import fcluster "
   ]
  },
  {
   "cell_type": "code",
   "execution_count": null,
   "id": "98abca4b",
   "metadata": {
    "scrolled": true
   },
   "outputs": [],
   "source": [
    "fclusters = fcluster(wardlink, 3, criterion='maxclust') \n",
    "fclusters"
   ]
  },
  {
   "cell_type": "code",
   "execution_count": null,
   "id": "6bc5eff4",
   "metadata": {},
   "outputs": [],
   "source": [
    "plt.figure(figsize=(10,7))\n",
    "plt.scatter(df_bank_scaled['spending'],df_bank_scaled['current_balance'],c=fclusters,cmap='rainbow')\n",
    "plt.title('Customer segments')\n",
    "plt.xlabel('Spending')\n",
    "plt.ylabel('Current Balance')\n",
    "plt.show()"
   ]
  },
  {
   "cell_type": "markdown",
   "id": "31121b9e",
   "metadata": {},
   "source": [
    "We can see 3 clusters segmentation clearly."
   ]
  },
  {
   "cell_type": "code",
   "execution_count": null,
   "id": "411e2743",
   "metadata": {},
   "outputs": [],
   "source": []
  },
  {
   "cell_type": "code",
   "execution_count": null,
   "id": "5877057f",
   "metadata": {},
   "outputs": [],
   "source": []
  },
  {
   "cell_type": "code",
   "execution_count": null,
   "id": "b0c5cbcd",
   "metadata": {},
   "outputs": [],
   "source": []
  },
  {
   "cell_type": "code",
   "execution_count": null,
   "id": "77c764da",
   "metadata": {},
   "outputs": [],
   "source": [
    "df_bank['fclusters'] = fclusters"
   ]
  },
  {
   "cell_type": "code",
   "execution_count": null,
   "id": "2299b4b4",
   "metadata": {},
   "outputs": [],
   "source": [
    "df_bank.head()"
   ]
  },
  {
   "cell_type": "code",
   "execution_count": null,
   "id": "c9a61475",
   "metadata": {},
   "outputs": [],
   "source": []
  },
  {
   "cell_type": "code",
   "execution_count": null,
   "id": "a5821574",
   "metadata": {},
   "outputs": [],
   "source": []
  },
  {
   "cell_type": "code",
   "execution_count": null,
   "id": "30d313f4",
   "metadata": {},
   "outputs": [],
   "source": []
  },
  {
   "cell_type": "code",
   "execution_count": null,
   "id": "63be330b",
   "metadata": {},
   "outputs": [],
   "source": []
  },
  {
   "cell_type": "markdown",
   "id": "d920324e",
   "metadata": {},
   "source": [
    "\n",
    "## 1.4 Apply K-Means clustering on scaled data and determine optimum clusters. Apply elbow curve and silhouette score. Explain the results properly. Interpret and write inferences on the finalized clusters."
   ]
  },
  {
   "cell_type": "markdown",
   "id": "0756cd51",
   "metadata": {},
   "source": [
    "1.4 Apply K-Means clustering on scaled data and determine optimum clusters (2 pts). \\\n",
    "Apply elbow curve and silhouette score (3 pts). \\\n",
    "Interpret the inferences from the model (2.5 pts). \n",
    "\n",
    "K-means clustering code application with different number of clusters. \n",
    "\n",
    "Calculation of WSS(inertia for each value of k) Elbow Method must be applied and visualized with different values of K.\n",
    "\n",
    "Reasoning behind the selection of the optimal value of K must be explained properly.\n",
    "\n",
    "Silhouette Score must be calculated for the same values of K taken above and commented on. \n",
    "\n",
    "Report must contain logical and correct explanations for choosing the optimum clusters using both elbow method and silhouette scores. Append cluster labels obtained from K-means clustering into the original data frame. Customer Segmentation can be visualized using appropriate graphs.\\\n",
    "7"
   ]
  },
  {
   "cell_type": "code",
   "execution_count": null,
   "id": "eac636ee",
   "metadata": {},
   "outputs": [],
   "source": []
  },
  {
   "cell_type": "code",
   "execution_count": null,
   "id": "20860eda",
   "metadata": {},
   "outputs": [],
   "source": [
    "from sklearn.cluster import KMeans "
   ]
  },
  {
   "cell_type": "code",
   "execution_count": null,
   "id": "1dd8ce40",
   "metadata": {},
   "outputs": [],
   "source": [
    "wss =[] \n"
   ]
  },
  {
   "cell_type": "code",
   "execution_count": null,
   "id": "8d62a0f1",
   "metadata": {},
   "outputs": [],
   "source": [
    "for i in range(1,10):\n",
    "    KM = KMeans(n_clusters=i)\n",
    "    KM.fit(df_bank_scaled)\n",
    "    wss.append(KM.inertia_)"
   ]
  },
  {
   "cell_type": "code",
   "execution_count": null,
   "id": "b6d77e8f",
   "metadata": {},
   "outputs": [],
   "source": [
    "wss"
   ]
  },
  {
   "cell_type": "code",
   "execution_count": null,
   "id": "29a6beb8",
   "metadata": {
    "scrolled": true
   },
   "outputs": [],
   "source": [
    "plt.plot(range(1,10), wss)\n",
    "plt.xlabel('No. of clusters')\n",
    "plt.ylabel('k-means inertia')\n",
    "plt.title('Elbow curve plot')\n"
   ]
  },
  {
   "cell_type": "markdown",
   "id": "a459447c",
   "metadata": {},
   "source": [
    "From both elbow curve and inertia method, we can choose 3 clusters as optimal number because inertia drop is less for k=3 compared to k=2. "
   ]
  },
  {
   "cell_type": "code",
   "execution_count": null,
   "id": "919a9954",
   "metadata": {},
   "outputs": [],
   "source": []
  },
  {
   "cell_type": "code",
   "execution_count": null,
   "id": "e9f04cd2",
   "metadata": {},
   "outputs": [],
   "source": []
  },
  {
   "cell_type": "code",
   "execution_count": null,
   "id": "687e6d2e",
   "metadata": {},
   "outputs": [],
   "source": []
  },
  {
   "cell_type": "code",
   "execution_count": null,
   "id": "00340173",
   "metadata": {},
   "outputs": [],
   "source": []
  },
  {
   "cell_type": "code",
   "execution_count": null,
   "id": "65ae57d9",
   "metadata": {},
   "outputs": [],
   "source": []
  },
  {
   "cell_type": "code",
   "execution_count": null,
   "id": "7c49a700",
   "metadata": {},
   "outputs": [],
   "source": []
  },
  {
   "cell_type": "code",
   "execution_count": null,
   "id": "6ff897ac",
   "metadata": {},
   "outputs": [],
   "source": [
    "from sklearn.metrics import silhouette_samples, silhouette_score"
   ]
  },
  {
   "cell_type": "code",
   "execution_count": null,
   "id": "e64193e5",
   "metadata": {},
   "outputs": [],
   "source": [
    "k_means = KMeans(n_clusters = 3)\n",
    "k_means.fit(df_bank_scaled)\n",
    "labels3 = k_means.labels_\n",
    "labels3\n"
   ]
  },
  {
   "cell_type": "code",
   "execution_count": null,
   "id": "246e6903",
   "metadata": {
    "scrolled": true
   },
   "outputs": [],
   "source": [
    "df_bank[\"Clus_kmeans\"] = labels3\n",
    "df_bank.head(5)"
   ]
  },
  {
   "cell_type": "code",
   "execution_count": null,
   "id": "608cd9be",
   "metadata": {},
   "outputs": [],
   "source": [
    "plt.figure(figsize=(10,7))\n",
    "plt.scatter(df_bank_scaled['spending'],df_bank_scaled['current_balance'],c=labels3,cmap='rainbow')\n",
    "plt.title('k-means Customer segments')\n",
    "plt.xlabel('Spending')\n",
    "plt.ylabel('Current Balance')\n",
    "plt.show()"
   ]
  },
  {
   "cell_type": "code",
   "execution_count": null,
   "id": "5eddf8d9",
   "metadata": {},
   "outputs": [],
   "source": [
    "ss = {}\n",
    "\n",
    "for i in range(2, 11):\n",
    "    kclusters = KMeans(n_clusters=i)\n",
    "    labels = kclusters.fit_predict(df_bank_scaled)\n",
    "    sil=silhouette_score(df_bank_scaled,labels)\n",
    "    ss[i]=round(sil,3)\n",
    "    print('The average silhouette score for {} clusters is {}'.format(i,sil))"
   ]
  },
  {
   "cell_type": "code",
   "execution_count": null,
   "id": "d79a9fbc",
   "metadata": {},
   "outputs": [],
   "source": [
    "plt.bar(ss.keys(),ss.values())\n",
    "plt.title('Average Silhouette Score Comaprison')\n",
    "plt.xlabel('Number of Clusters')\n",
    "plt.ylabel('Average Silhoutte Score')\n",
    "plt.show()"
   ]
  },
  {
   "cell_type": "markdown",
   "id": "d989e4d3",
   "metadata": {},
   "source": [
    "As per the silhouette score, optimal number of clusters are 2. However as mentioned earlier, 2 is not preferred way of profiling the dataset and hence the ideal number of clusters to be considered is 3. With a silhouette score of ~0.40."
   ]
  },
  {
   "cell_type": "code",
   "execution_count": null,
   "id": "a57db2da",
   "metadata": {},
   "outputs": [],
   "source": [
    "df_bank.head(\n",
    ")"
   ]
  },
  {
   "cell_type": "code",
   "execution_count": null,
   "id": "c2627b5e",
   "metadata": {},
   "outputs": [],
   "source": [
    "kcluster1=df_bank[df_bank['Clus_kmeans']==0]\n",
    "kcluster2=df_bank[df_bank['Clus_kmeans']==1]\n",
    "kcluster3=df_bank[df_bank['Clus_kmeans']==2]"
   ]
  },
  {
   "cell_type": "code",
   "execution_count": null,
   "id": "901932c1",
   "metadata": {
    "scrolled": true
   },
   "outputs": [],
   "source": [
    "kcluster3.mean() #red"
   ]
  },
  {
   "cell_type": "code",
   "execution_count": null,
   "id": "722c1bfd",
   "metadata": {},
   "outputs": [],
   "source": []
  },
  {
   "cell_type": "markdown",
   "id": "3b3aeb44",
   "metadata": {},
   "source": [
    "## 1.5 Describe cluster profiles for the clusters defined. Recommend different promotional strategies for different clusters."
   ]
  },
  {
   "cell_type": "markdown",
   "id": "3260b0ac",
   "metadata": {},
   "source": [
    "1.5 Describe cluster profiles for the clusters defined (2.5 pts).\\\n",
    "Recommend different promotional strategies for different clusters in context to the business problem in-hand (2.5 pts ).\n",
    "\n",
    "After adding the final clusters to the original dataframe, do the cluster profiling.\\\n",
    "Divide the data in the finalyzed groups and check their means.\\\n",
    "Explain each of the group briefly. There should be at least 3-4 Recommendations. Recommendations should be easily understandable and business specific, students should not give any technical suggestions. \\\n",
    "Full marks will only be allotted if the recommendations are correct and business specific. variable means.\\\n",
    "Students to explain the profiles and suggest a mechanism to approach each cluster. Any logical explanation is acceptable.\\\n",
    "5"
   ]
  },
  {
   "cell_type": "code",
   "execution_count": null,
   "id": "6eec8d5a",
   "metadata": {},
   "outputs": [],
   "source": []
  },
  {
   "cell_type": "code",
   "execution_count": null,
   "id": "9e780874",
   "metadata": {},
   "outputs": [],
   "source": [
    "kcluster1.describe().T #purple"
   ]
  },
  {
   "cell_type": "code",
   "execution_count": null,
   "id": "87d2865f",
   "metadata": {},
   "outputs": [],
   "source": [
    "kcluster2.describe().T #green"
   ]
  },
  {
   "cell_type": "code",
   "execution_count": null,
   "id": "06eeaade",
   "metadata": {},
   "outputs": [],
   "source": [
    "kcluster3.describe().T #red"
   ]
  },
  {
   "cell_type": "code",
   "execution_count": null,
   "id": "342963a0",
   "metadata": {},
   "outputs": [],
   "source": []
  },
  {
   "cell_type": "markdown",
   "id": "c15ec9d4",
   "metadata": {},
   "source": [
    "\tPromotional strategies: Based on the clusters obtained from k-means clustering strategy for different segment of customers is as follows:\n",
    "\n",
    "•\tType 1 Customers (Represented by purple dots in the k-means cluster plot wherein both spending and current balance are low): \\\n",
    "If we compare the mean ‘current_balance’ of Type 1 customers (5.23) and Type 3 customers (5.51) (discussed below) are almost similar. But spendings vary for both. So, there are customers in this segment who are having the balance, but less interested in spendings. Banks should attract this particular customer segment with some kind of discounts, vouchers etc.\n",
    "\n",
    "•\tType 2 Customers (Represented by Green Dots in the k-means cluster plot wherein both spending and current balance are high):\\\n",
    "This is probably a high value customer and hence special discounted pricing based promotional campaigns for this group to increase their spending and use current balance.\n",
    "\n",
    "•\tType 3 Customers (Represented by Red Dots in the k-means cluster plot wherein both spending and current balance are moderate):\\\n",
    "Further analysis could be performed to understand what would make this segment to move into green area.\n"
   ]
  },
  {
   "cell_type": "code",
   "execution_count": null,
   "id": "5169ca96",
   "metadata": {},
   "outputs": [],
   "source": []
  },
  {
   "cell_type": "code",
   "execution_count": null,
   "id": "06e0de42",
   "metadata": {},
   "outputs": [],
   "source": []
  },
  {
   "cell_type": "markdown",
   "id": "13b77153",
   "metadata": {},
   "source": [
    "\n",
    "\n",
    "\n",
    "\n"
   ]
  },
  {
   "cell_type": "code",
   "execution_count": null,
   "id": "8efa6b15",
   "metadata": {},
   "outputs": [],
   "source": []
  },
  {
   "cell_type": "markdown",
   "id": "6dd8fa27",
   "metadata": {},
   "source": [
    "## Problem 2: CART-RF-ANN\n",
    "\n",
    "An Insurance firm providing tour insurance is facing higher claim frequency. The management decides to collect data from the past few years. You are assigned the task to make a model which predicts the claim status and provide recommendations to management. Use CART, RF & ANN and compare the models' performances in train and test sets.\n",
    "\n"
   ]
  },
  {
   "cell_type": "markdown",
   "id": "fcd91540",
   "metadata": {},
   "source": [
    "Attribute Information:\n",
    "\n",
    "1. Age of insured (Age)\n",
    "\n",
    "2. Code of tour firm (Agency_Code)\n",
    "\n",
    "3. Type of tour insurance firms (Type)\n",
    "\n",
    "4. Target: Claim Status (Claimed)\n",
    "\n",
    "5. The commission received for tour insurance firm (Commission is in percentage of sales)\n",
    "\n",
    "6. Distribution channel of tour insurance agencies (Channel)\n",
    "\n",
    "7. Duration of the tour (Duration in days)\n",
    "\n",
    "8. Amount worth of sales per customer in procuring tour insurance policies in rupees (in 100’s)\n",
    "\n",
    "9. Name of the tour insurance products (Product)\n",
    "\n",
    "10. Destination of the tour (Destination)\n"
   ]
  },
  {
   "cell_type": "markdown",
   "id": "090fd11d",
   "metadata": {},
   "source": [
    "## 2.1 Read the data, do the necessary initial steps, and exploratory data analysis (Univariate, Bi-variate, and multivariate analysis)."
   ]
  },
  {
   "cell_type": "markdown",
   "id": "83148643",
   "metadata": {},
   "source": [
    "2.1 Read the data and do exploratory data analysis (4 pts).\\\n",
    "Describe the data briefly. Interpret the inferences for each (2 pts).\\\n",
    "\n",
    "#Initial steps like head() .info(), Data Types, etc .\\\n",
    "#Null value check.\\\n",
    "#Distribution plots(histogram) or similar plots for the continuous columns. \\\n",
    "#Box plots, Correlation plots. \n",
    "#Appropriate plots for categorical variables. Inferences on each plot. \\\n",
    "#Summary stats, Skewness, Outliers proportion should be discussed, and inferences from above used plots should be there. \\\n",
    "There is no restriction on how the learner wishes to implement this but the code should be able to represent the correct output and inferences should be logical and correct.\\\n",
    "6"
   ]
  },
  {
   "cell_type": "code",
   "execution_count": 5,
   "id": "f152f935",
   "metadata": {
    "scrolled": true
   },
   "outputs": [
    {
     "data": {
      "text/html": [
       "<div>\n",
       "<style scoped>\n",
       "    .dataframe tbody tr th:only-of-type {\n",
       "        vertical-align: middle;\n",
       "    }\n",
       "\n",
       "    .dataframe tbody tr th {\n",
       "        vertical-align: top;\n",
       "    }\n",
       "\n",
       "    .dataframe thead th {\n",
       "        text-align: right;\n",
       "    }\n",
       "</style>\n",
       "<table border=\"1\" class=\"dataframe\">\n",
       "  <thead>\n",
       "    <tr style=\"text-align: right;\">\n",
       "      <th></th>\n",
       "      <th>Age</th>\n",
       "      <th>Agency_Code</th>\n",
       "      <th>Type</th>\n",
       "      <th>Claimed</th>\n",
       "      <th>Commision</th>\n",
       "      <th>Channel</th>\n",
       "      <th>Duration</th>\n",
       "      <th>Sales</th>\n",
       "      <th>Product Name</th>\n",
       "      <th>Destination</th>\n",
       "    </tr>\n",
       "  </thead>\n",
       "  <tbody>\n",
       "    <tr>\n",
       "      <th>0</th>\n",
       "      <td>48</td>\n",
       "      <td>C2B</td>\n",
       "      <td>Airlines</td>\n",
       "      <td>No</td>\n",
       "      <td>0.70</td>\n",
       "      <td>Online</td>\n",
       "      <td>7</td>\n",
       "      <td>2.51</td>\n",
       "      <td>Customised Plan</td>\n",
       "      <td>ASIA</td>\n",
       "    </tr>\n",
       "    <tr>\n",
       "      <th>1</th>\n",
       "      <td>36</td>\n",
       "      <td>EPX</td>\n",
       "      <td>Travel Agency</td>\n",
       "      <td>No</td>\n",
       "      <td>0.00</td>\n",
       "      <td>Online</td>\n",
       "      <td>34</td>\n",
       "      <td>20.00</td>\n",
       "      <td>Customised Plan</td>\n",
       "      <td>ASIA</td>\n",
       "    </tr>\n",
       "    <tr>\n",
       "      <th>2</th>\n",
       "      <td>39</td>\n",
       "      <td>CWT</td>\n",
       "      <td>Travel Agency</td>\n",
       "      <td>No</td>\n",
       "      <td>5.94</td>\n",
       "      <td>Online</td>\n",
       "      <td>3</td>\n",
       "      <td>9.90</td>\n",
       "      <td>Customised Plan</td>\n",
       "      <td>Americas</td>\n",
       "    </tr>\n",
       "    <tr>\n",
       "      <th>3</th>\n",
       "      <td>36</td>\n",
       "      <td>EPX</td>\n",
       "      <td>Travel Agency</td>\n",
       "      <td>No</td>\n",
       "      <td>0.00</td>\n",
       "      <td>Online</td>\n",
       "      <td>4</td>\n",
       "      <td>26.00</td>\n",
       "      <td>Cancellation Plan</td>\n",
       "      <td>ASIA</td>\n",
       "    </tr>\n",
       "    <tr>\n",
       "      <th>4</th>\n",
       "      <td>33</td>\n",
       "      <td>JZI</td>\n",
       "      <td>Airlines</td>\n",
       "      <td>No</td>\n",
       "      <td>6.30</td>\n",
       "      <td>Online</td>\n",
       "      <td>53</td>\n",
       "      <td>18.00</td>\n",
       "      <td>Bronze Plan</td>\n",
       "      <td>ASIA</td>\n",
       "    </tr>\n",
       "  </tbody>\n",
       "</table>\n",
       "</div>"
      ],
      "text/plain": [
       "   Age Agency_Code           Type Claimed  Commision Channel  Duration  Sales  \\\n",
       "0   48         C2B       Airlines      No       0.70  Online         7   2.51   \n",
       "1   36         EPX  Travel Agency      No       0.00  Online        34  20.00   \n",
       "2   39         CWT  Travel Agency      No       5.94  Online         3   9.90   \n",
       "3   36         EPX  Travel Agency      No       0.00  Online         4  26.00   \n",
       "4   33         JZI       Airlines      No       6.30  Online        53  18.00   \n",
       "\n",
       "        Product Name Destination  \n",
       "0    Customised Plan        ASIA  \n",
       "1    Customised Plan        ASIA  \n",
       "2    Customised Plan    Americas  \n",
       "3  Cancellation Plan        ASIA  \n",
       "4        Bronze Plan        ASIA  "
      ]
     },
     "execution_count": 5,
     "metadata": {},
     "output_type": "execute_result"
    }
   ],
   "source": [
    "df_insurance = pd.read_csv('insurance_part2_data.csv')\n",
    "df_insurance.head()"
   ]
  },
  {
   "cell_type": "markdown",
   "id": "f830144b",
   "metadata": {},
   "source": [
    "The dataset loaded successfully"
   ]
  },
  {
   "cell_type": "code",
   "execution_count": 6,
   "id": "31cbdab6",
   "metadata": {},
   "outputs": [
    {
     "data": {
      "text/plain": [
       "Age               int64\n",
       "Agency_Code      object\n",
       "Type             object\n",
       "Claimed          object\n",
       "Commision       float64\n",
       "Channel          object\n",
       "Duration          int64\n",
       "Sales           float64\n",
       "Product Name     object\n",
       "Destination      object\n",
       "dtype: object"
      ]
     },
     "execution_count": 6,
     "metadata": {},
     "output_type": "execute_result"
    }
   ],
   "source": [
    "df_insurance.dtypes"
   ]
  },
  {
   "cell_type": "markdown",
   "id": "faf25fa4",
   "metadata": {},
   "source": [
    "There are both numeric and object variables."
   ]
  },
  {
   "cell_type": "code",
   "execution_count": 7,
   "id": "24f557c4",
   "metadata": {},
   "outputs": [
    {
     "name": "stdout",
     "output_type": "stream",
     "text": [
      "<class 'pandas.core.frame.DataFrame'>\n",
      "RangeIndex: 3000 entries, 0 to 2999\n",
      "Data columns (total 10 columns):\n",
      " #   Column        Non-Null Count  Dtype  \n",
      "---  ------        --------------  -----  \n",
      " 0   Age           3000 non-null   int64  \n",
      " 1   Agency_Code   3000 non-null   object \n",
      " 2   Type          3000 non-null   object \n",
      " 3   Claimed       3000 non-null   object \n",
      " 4   Commision     3000 non-null   float64\n",
      " 5   Channel       3000 non-null   object \n",
      " 6   Duration      3000 non-null   int64  \n",
      " 7   Sales         3000 non-null   float64\n",
      " 8   Product Name  3000 non-null   object \n",
      " 9   Destination   3000 non-null   object \n",
      "dtypes: float64(2), int64(2), object(6)\n",
      "memory usage: 234.5+ KB\n"
     ]
    }
   ],
   "source": [
    "df_insurance.info()"
   ]
  },
  {
   "cell_type": "markdown",
   "id": "e8b77a54",
   "metadata": {},
   "source": [
    "There are no null values.\n",
    "\n",
    "There are total 4 numeric and 6 object type variables"
   ]
  },
  {
   "cell_type": "code",
   "execution_count": 6,
   "id": "9ba34352",
   "metadata": {
    "scrolled": true
   },
   "outputs": [
    {
     "data": {
      "text/plain": [
       "(3000, 10)"
      ]
     },
     "execution_count": 6,
     "metadata": {},
     "output_type": "execute_result"
    }
   ],
   "source": [
    "df_insurance.shape"
   ]
  },
  {
   "cell_type": "markdown",
   "id": "e1c3a9f7",
   "metadata": {},
   "source": [
    "There are total 3000 records and 10 features in the dataset."
   ]
  },
  {
   "cell_type": "code",
   "execution_count": 4,
   "id": "ca832333",
   "metadata": {},
   "outputs": [
    {
     "data": {
      "text/plain": [
       "139"
      ]
     },
     "execution_count": 4,
     "metadata": {},
     "output_type": "execute_result"
    }
   ],
   "source": [
    "df_insurance.duplicated().sum()"
   ]
  },
  {
   "cell_type": "code",
   "execution_count": 5,
   "id": "723d39cc",
   "metadata": {
    "scrolled": true
   },
   "outputs": [
    {
     "data": {
      "text/html": [
       "<div>\n",
       "<style scoped>\n",
       "    .dataframe tbody tr th:only-of-type {\n",
       "        vertical-align: middle;\n",
       "    }\n",
       "\n",
       "    .dataframe tbody tr th {\n",
       "        vertical-align: top;\n",
       "    }\n",
       "\n",
       "    .dataframe thead th {\n",
       "        text-align: right;\n",
       "    }\n",
       "</style>\n",
       "<table border=\"1\" class=\"dataframe\">\n",
       "  <thead>\n",
       "    <tr style=\"text-align: right;\">\n",
       "      <th></th>\n",
       "      <th>count</th>\n",
       "      <th>mean</th>\n",
       "      <th>std</th>\n",
       "      <th>min</th>\n",
       "      <th>25%</th>\n",
       "      <th>50%</th>\n",
       "      <th>75%</th>\n",
       "      <th>max</th>\n",
       "    </tr>\n",
       "  </thead>\n",
       "  <tbody>\n",
       "    <tr>\n",
       "      <th>Age</th>\n",
       "      <td>3000.0</td>\n",
       "      <td>38.091000</td>\n",
       "      <td>10.463518</td>\n",
       "      <td>8.0</td>\n",
       "      <td>32.0</td>\n",
       "      <td>36.00</td>\n",
       "      <td>42.000</td>\n",
       "      <td>84.00</td>\n",
       "    </tr>\n",
       "    <tr>\n",
       "      <th>Commision</th>\n",
       "      <td>3000.0</td>\n",
       "      <td>14.529203</td>\n",
       "      <td>25.481455</td>\n",
       "      <td>0.0</td>\n",
       "      <td>0.0</td>\n",
       "      <td>4.63</td>\n",
       "      <td>17.235</td>\n",
       "      <td>210.21</td>\n",
       "    </tr>\n",
       "    <tr>\n",
       "      <th>Duration</th>\n",
       "      <td>3000.0</td>\n",
       "      <td>70.001333</td>\n",
       "      <td>134.053313</td>\n",
       "      <td>-1.0</td>\n",
       "      <td>11.0</td>\n",
       "      <td>26.50</td>\n",
       "      <td>63.000</td>\n",
       "      <td>4580.00</td>\n",
       "    </tr>\n",
       "    <tr>\n",
       "      <th>Sales</th>\n",
       "      <td>3000.0</td>\n",
       "      <td>60.249913</td>\n",
       "      <td>70.733954</td>\n",
       "      <td>0.0</td>\n",
       "      <td>20.0</td>\n",
       "      <td>33.00</td>\n",
       "      <td>69.000</td>\n",
       "      <td>539.00</td>\n",
       "    </tr>\n",
       "  </tbody>\n",
       "</table>\n",
       "</div>"
      ],
      "text/plain": [
       "            count       mean         std  min   25%    50%     75%      max\n",
       "Age        3000.0  38.091000   10.463518  8.0  32.0  36.00  42.000    84.00\n",
       "Commision  3000.0  14.529203   25.481455  0.0   0.0   4.63  17.235   210.21\n",
       "Duration   3000.0  70.001333  134.053313 -1.0  11.0  26.50  63.000  4580.00\n",
       "Sales      3000.0  60.249913   70.733954  0.0  20.0  33.00  69.000   539.00"
      ]
     },
     "execution_count": 5,
     "metadata": {},
     "output_type": "execute_result"
    }
   ],
   "source": [
    "df_insurance.describe().T"
   ]
  },
  {
   "cell_type": "markdown",
   "id": "096e4d9a",
   "metadata": {},
   "source": [
    "Let's descrbe each feature below:\n",
    "\n",
    "1) Age: Mean age is ~38 years. There is no variation in this feature."
   ]
  },
  {
   "cell_type": "markdown",
   "id": "7b4e8641",
   "metadata": {},
   "source": [
    "2) Commision: \\\n",
    "Commision is in percentage on sales. \\\n",
    "Minimum commision is 0% \\\n",
    "Maximum percentage is 210.21, which should not be the case. This error need to be treated."
   ]
  },
  {
   "cell_type": "code",
   "execution_count": 6,
   "id": "ac8455d5",
   "metadata": {},
   "outputs": [
    {
     "data": {
      "text/plain": [
       "Age              55\n",
       "Agency_Code       2\n",
       "Type              1\n",
       "Claimed           2\n",
       "Commision         1\n",
       "Channel           2\n",
       "Duration        187\n",
       "Sales           142\n",
       "Product Name      2\n",
       "Destination       3\n",
       "dtype: int64"
      ]
     },
     "execution_count": 6,
     "metadata": {},
     "output_type": "execute_result"
    }
   ],
   "source": [
    "df_insurance[df_insurance['Commision']==0].nunique()"
   ]
  },
  {
   "cell_type": "code",
   "execution_count": 14,
   "id": "45f6341f",
   "metadata": {},
   "outputs": [
    {
     "data": {
      "text/plain": [
       "Travel Agency    1366\n",
       "Name: Type, dtype: int64"
      ]
     },
     "execution_count": 14,
     "metadata": {},
     "output_type": "execute_result"
    }
   ],
   "source": [
    "df_insurance[df_insurance['Commision']==0]['Type'].value_counts()"
   ]
  },
  {
   "cell_type": "code",
   "execution_count": 15,
   "id": "b2224986",
   "metadata": {},
   "outputs": [
    {
     "data": {
      "text/plain": [
       "Airlines         1163\n",
       "Travel Agency     471\n",
       "Name: Type, dtype: int64"
      ]
     },
     "execution_count": 15,
     "metadata": {},
     "output_type": "execute_result"
    }
   ],
   "source": [
    "df_insurance[df_insurance['Commision']>0]['Type'].value_counts()"
   ]
  },
  {
   "cell_type": "markdown",
   "id": "1644955f",
   "metadata": {},
   "source": [
    "Majority of the Travel Agencies are taking zero percent commision on sales."
   ]
  },
  {
   "cell_type": "code",
   "execution_count": null,
   "id": "3d1a1df2",
   "metadata": {},
   "outputs": [],
   "source": [
    "df_insurance[df_insurance['Commision']>100]['Channel'].unique()"
   ]
  },
  {
   "cell_type": "markdown",
   "id": "eda1f6a5",
   "metadata": {},
   "source": [
    "Some of the 'Online' channels are taking more than 100% commision."
   ]
  },
  {
   "cell_type": "markdown",
   "id": "fabca958",
   "metadata": {},
   "source": [
    "3) Duration:\\\n",
    "On an average, customers have travelled 70 days using several term insurances available.\\\n",
    "There is huge variation in the data for this feature. "
   ]
  },
  {
   "cell_type": "markdown",
   "id": "270ace18",
   "metadata": {},
   "source": [
    "4) Sales:\\\n",
    "On an average, customers spent ~60000 on tour policies.\\\n",
    "There is variation in the dataset for this feature."
   ]
  },
  {
   "cell_type": "code",
   "execution_count": null,
   "id": "8679437b",
   "metadata": {},
   "outputs": [],
   "source": []
  },
  {
   "cell_type": "markdown",
   "id": "c5fb66bc",
   "metadata": {},
   "source": [
    "## Data Pre-processing:"
   ]
  },
  {
   "cell_type": "markdown",
   "id": "20964fef",
   "metadata": {},
   "source": [
    "There are no null values in the dataset.\n",
    "\n",
    "There are total 4 numeric and 6 object type variables.\n",
    "\n",
    "There are total 3000 records and 10 features in the dataset.\n",
    "\n",
    "There are no anamolies present.\n",
    "\n",
    "Total 139 duplicated records are there in the dataset.\n"
   ]
  },
  {
   "cell_type": "code",
   "execution_count": 8,
   "id": "76cb8d7a",
   "metadata": {},
   "outputs": [
    {
     "data": {
      "text/html": [
       "<div>\n",
       "<style scoped>\n",
       "    .dataframe tbody tr th:only-of-type {\n",
       "        vertical-align: middle;\n",
       "    }\n",
       "\n",
       "    .dataframe tbody tr th {\n",
       "        vertical-align: top;\n",
       "    }\n",
       "\n",
       "    .dataframe thead th {\n",
       "        text-align: right;\n",
       "    }\n",
       "</style>\n",
       "<table border=\"1\" class=\"dataframe\">\n",
       "  <thead>\n",
       "    <tr style=\"text-align: right;\">\n",
       "      <th></th>\n",
       "      <th>Age</th>\n",
       "      <th>Agency_Code</th>\n",
       "      <th>Type</th>\n",
       "      <th>Claimed</th>\n",
       "      <th>Commision</th>\n",
       "      <th>Channel</th>\n",
       "      <th>Duration</th>\n",
       "      <th>Sales</th>\n",
       "      <th>Product Name</th>\n",
       "      <th>Destination</th>\n",
       "    </tr>\n",
       "  </thead>\n",
       "  <tbody>\n",
       "    <tr>\n",
       "      <th>63</th>\n",
       "      <td>30</td>\n",
       "      <td>C2B</td>\n",
       "      <td>Airlines</td>\n",
       "      <td>Yes</td>\n",
       "      <td>15.0</td>\n",
       "      <td>Online</td>\n",
       "      <td>27</td>\n",
       "      <td>60.0</td>\n",
       "      <td>Bronze Plan</td>\n",
       "      <td>ASIA</td>\n",
       "    </tr>\n",
       "    <tr>\n",
       "      <th>329</th>\n",
       "      <td>36</td>\n",
       "      <td>EPX</td>\n",
       "      <td>Travel Agency</td>\n",
       "      <td>No</td>\n",
       "      <td>0.0</td>\n",
       "      <td>Online</td>\n",
       "      <td>5</td>\n",
       "      <td>20.0</td>\n",
       "      <td>Customised Plan</td>\n",
       "      <td>ASIA</td>\n",
       "    </tr>\n",
       "    <tr>\n",
       "      <th>407</th>\n",
       "      <td>36</td>\n",
       "      <td>EPX</td>\n",
       "      <td>Travel Agency</td>\n",
       "      <td>No</td>\n",
       "      <td>0.0</td>\n",
       "      <td>Online</td>\n",
       "      <td>11</td>\n",
       "      <td>19.0</td>\n",
       "      <td>Cancellation Plan</td>\n",
       "      <td>ASIA</td>\n",
       "    </tr>\n",
       "    <tr>\n",
       "      <th>411</th>\n",
       "      <td>35</td>\n",
       "      <td>EPX</td>\n",
       "      <td>Travel Agency</td>\n",
       "      <td>No</td>\n",
       "      <td>0.0</td>\n",
       "      <td>Online</td>\n",
       "      <td>2</td>\n",
       "      <td>20.0</td>\n",
       "      <td>Customised Plan</td>\n",
       "      <td>ASIA</td>\n",
       "    </tr>\n",
       "    <tr>\n",
       "      <th>422</th>\n",
       "      <td>36</td>\n",
       "      <td>EPX</td>\n",
       "      <td>Travel Agency</td>\n",
       "      <td>No</td>\n",
       "      <td>0.0</td>\n",
       "      <td>Online</td>\n",
       "      <td>5</td>\n",
       "      <td>20.0</td>\n",
       "      <td>Customised Plan</td>\n",
       "      <td>ASIA</td>\n",
       "    </tr>\n",
       "    <tr>\n",
       "      <th>...</th>\n",
       "      <td>...</td>\n",
       "      <td>...</td>\n",
       "      <td>...</td>\n",
       "      <td>...</td>\n",
       "      <td>...</td>\n",
       "      <td>...</td>\n",
       "      <td>...</td>\n",
       "      <td>...</td>\n",
       "      <td>...</td>\n",
       "      <td>...</td>\n",
       "    </tr>\n",
       "    <tr>\n",
       "      <th>2940</th>\n",
       "      <td>36</td>\n",
       "      <td>EPX</td>\n",
       "      <td>Travel Agency</td>\n",
       "      <td>No</td>\n",
       "      <td>0.0</td>\n",
       "      <td>Online</td>\n",
       "      <td>8</td>\n",
       "      <td>10.0</td>\n",
       "      <td>Cancellation Plan</td>\n",
       "      <td>ASIA</td>\n",
       "    </tr>\n",
       "    <tr>\n",
       "      <th>2947</th>\n",
       "      <td>36</td>\n",
       "      <td>EPX</td>\n",
       "      <td>Travel Agency</td>\n",
       "      <td>No</td>\n",
       "      <td>0.0</td>\n",
       "      <td>Online</td>\n",
       "      <td>10</td>\n",
       "      <td>28.0</td>\n",
       "      <td>Customised Plan</td>\n",
       "      <td>ASIA</td>\n",
       "    </tr>\n",
       "    <tr>\n",
       "      <th>2952</th>\n",
       "      <td>36</td>\n",
       "      <td>EPX</td>\n",
       "      <td>Travel Agency</td>\n",
       "      <td>No</td>\n",
       "      <td>0.0</td>\n",
       "      <td>Online</td>\n",
       "      <td>2</td>\n",
       "      <td>10.0</td>\n",
       "      <td>Cancellation Plan</td>\n",
       "      <td>ASIA</td>\n",
       "    </tr>\n",
       "    <tr>\n",
       "      <th>2962</th>\n",
       "      <td>36</td>\n",
       "      <td>EPX</td>\n",
       "      <td>Travel Agency</td>\n",
       "      <td>No</td>\n",
       "      <td>0.0</td>\n",
       "      <td>Online</td>\n",
       "      <td>4</td>\n",
       "      <td>20.0</td>\n",
       "      <td>Customised Plan</td>\n",
       "      <td>ASIA</td>\n",
       "    </tr>\n",
       "    <tr>\n",
       "      <th>2984</th>\n",
       "      <td>36</td>\n",
       "      <td>EPX</td>\n",
       "      <td>Travel Agency</td>\n",
       "      <td>No</td>\n",
       "      <td>0.0</td>\n",
       "      <td>Online</td>\n",
       "      <td>1</td>\n",
       "      <td>20.0</td>\n",
       "      <td>Customised Plan</td>\n",
       "      <td>ASIA</td>\n",
       "    </tr>\n",
       "  </tbody>\n",
       "</table>\n",
       "<p>139 rows × 10 columns</p>\n",
       "</div>"
      ],
      "text/plain": [
       "      Age Agency_Code           Type Claimed  Commision Channel  Duration  \\\n",
       "63     30         C2B       Airlines     Yes       15.0  Online        27   \n",
       "329    36         EPX  Travel Agency      No        0.0  Online         5   \n",
       "407    36         EPX  Travel Agency      No        0.0  Online        11   \n",
       "411    35         EPX  Travel Agency      No        0.0  Online         2   \n",
       "422    36         EPX  Travel Agency      No        0.0  Online         5   \n",
       "...   ...         ...            ...     ...        ...     ...       ...   \n",
       "2940   36         EPX  Travel Agency      No        0.0  Online         8   \n",
       "2947   36         EPX  Travel Agency      No        0.0  Online        10   \n",
       "2952   36         EPX  Travel Agency      No        0.0  Online         2   \n",
       "2962   36         EPX  Travel Agency      No        0.0  Online         4   \n",
       "2984   36         EPX  Travel Agency      No        0.0  Online         1   \n",
       "\n",
       "      Sales       Product Name Destination  \n",
       "63     60.0        Bronze Plan        ASIA  \n",
       "329    20.0    Customised Plan        ASIA  \n",
       "407    19.0  Cancellation Plan        ASIA  \n",
       "411    20.0    Customised Plan        ASIA  \n",
       "422    20.0    Customised Plan        ASIA  \n",
       "...     ...                ...         ...  \n",
       "2940   10.0  Cancellation Plan        ASIA  \n",
       "2947   28.0    Customised Plan        ASIA  \n",
       "2952   10.0  Cancellation Plan        ASIA  \n",
       "2962   20.0    Customised Plan        ASIA  \n",
       "2984   20.0    Customised Plan        ASIA  \n",
       "\n",
       "[139 rows x 10 columns]"
      ]
     },
     "execution_count": 8,
     "metadata": {},
     "output_type": "execute_result"
    }
   ],
   "source": [
    "dups=df_insurance.duplicated()\n",
    "df_insurance[dups]"
   ]
  },
  {
   "cell_type": "code",
   "execution_count": 8,
   "id": "e37777e7",
   "metadata": {
    "scrolled": false
   },
   "outputs": [
    {
     "data": {
      "text/plain": [
       "0.00     127\n",
       "63.21      3\n",
       "54.00      2\n",
       "15.00      1\n",
       "46.96      1\n",
       "28.80      1\n",
       "4.39       1\n",
       "29.70      1\n",
       "12.40      1\n",
       "6.00       1\n",
       "Name: Commision, dtype: int64"
      ]
     },
     "execution_count": 8,
     "metadata": {},
     "output_type": "execute_result"
    }
   ],
   "source": [
    "df_insurance[dups]['Commision'].value_counts()"
   ]
  },
  {
   "cell_type": "code",
   "execution_count": 9,
   "id": "25fc6bc5",
   "metadata": {
    "scrolled": true
   },
   "outputs": [
    {
     "data": {
      "text/plain": [
       "ASIA        138\n",
       "Americas      1\n",
       "Name: Destination, dtype: int64"
      ]
     },
     "execution_count": 9,
     "metadata": {},
     "output_type": "execute_result"
    }
   ],
   "source": [
    "df_insurance[dups]['Destination'].value_counts()"
   ]
  },
  {
   "cell_type": "code",
   "execution_count": 10,
   "id": "0de17c9d",
   "metadata": {},
   "outputs": [
    {
     "data": {
      "text/plain": [
       "Travel Agency    128\n",
       "Airlines          11\n",
       "Name: Type, dtype: int64"
      ]
     },
     "execution_count": 10,
     "metadata": {},
     "output_type": "execute_result"
    }
   ],
   "source": [
    "df_insurance[dups]['Type'].value_counts()"
   ]
  },
  {
   "cell_type": "markdown",
   "id": "ef2cd71f",
   "metadata": {},
   "source": [
    "So, we can see 127 records are from zero percent 'Commision' records and 138 records are from 'ASIA' destination.\n",
    "\n",
    "But, it can be of different customers, there is no customer ID or any unique identifier, so we are not dropping them off."
   ]
  },
  {
   "cell_type": "code",
   "execution_count": null,
   "id": "ff229cba",
   "metadata": {},
   "outputs": [],
   "source": []
  },
  {
   "cell_type": "code",
   "execution_count": null,
   "id": "bce4c86a",
   "metadata": {},
   "outputs": [],
   "source": []
  },
  {
   "cell_type": "code",
   "execution_count": null,
   "id": "41121603",
   "metadata": {},
   "outputs": [],
   "source": []
  },
  {
   "cell_type": "code",
   "execution_count": null,
   "id": "df24e1c8",
   "metadata": {},
   "outputs": [],
   "source": []
  },
  {
   "cell_type": "markdown",
   "id": "3b992fdd",
   "metadata": {},
   "source": [
    "## Data visualization"
   ]
  },
  {
   "cell_type": "markdown",
   "id": "00056fe2",
   "metadata": {},
   "source": [
    "Univariate analysis:"
   ]
  },
  {
   "cell_type": "code",
   "execution_count": 11,
   "id": "2317c5ab",
   "metadata": {},
   "outputs": [
    {
     "data": {
      "text/plain": [
       "array([[<AxesSubplot:title={'center':'Age'}>,\n",
       "        <AxesSubplot:title={'center':'Commision'}>],\n",
       "       [<AxesSubplot:title={'center':'Duration'}>,\n",
       "        <AxesSubplot:title={'center':'Sales'}>]], dtype=object)"
      ]
     },
     "execution_count": 11,
     "metadata": {},
     "output_type": "execute_result"
    },
    {
     "data": {
      "image/png": "[encoded data removed]",
      "text/plain": [
       "<Figure size 864x576 with 4 Axes>"
      ]
     },
     "metadata": {
      "needs_background": "light"
     },
     "output_type": "display_data"
    }
   ],
   "source": [
    "df_insurance.hist(bins=10, figsize=[12,8])"
   ]
  },
  {
   "cell_type": "code",
   "execution_count": 19,
   "id": "82a57f43",
   "metadata": {},
   "outputs": [
    {
     "name": "stderr",
     "output_type": "stream",
     "text": [
      "C:\\Users\\sireesha\\AppData\\Local\\Temp/ipykernel_22232/4250087436.py:1: FutureWarning: Dropping of nuisance columns in DataFrame reductions (with 'numeric_only=None') is deprecated; in a future version this will raise TypeError.  Select only valid columns before calling the reduction.\n",
      "  df_insurance.skew()\n"
     ]
    },
    {
     "data": {
      "text/plain": [
       "Age           1.149713\n",
       "Commision     3.148858\n",
       "Duration     13.784681\n",
       "Sales         2.381148\n",
       "dtype: float64"
      ]
     },
     "execution_count": 19,
     "metadata": {},
     "output_type": "execute_result"
    }
   ],
   "source": [
    "df_insurance.skew()"
   ]
  },
  {
   "cell_type": "markdown",
   "id": "62701bc1",
   "metadata": {},
   "source": [
    "All numeric features are highly right skewed distributions and 'Duration' is very highly right skewed"
   ]
  },
  {
   "cell_type": "code",
   "execution_count": null,
   "id": "a8980f2e",
   "metadata": {},
   "outputs": [],
   "source": []
  },
  {
   "cell_type": "markdown",
   "id": "f8fbf6f6",
   "metadata": {},
   "source": [
    "Checking for outliers:"
   ]
  },
  {
   "cell_type": "code",
   "execution_count": 9,
   "id": "f88786f8",
   "metadata": {},
   "outputs": [
    {
     "data": {
      "image/png": "[encoded data removed]",
      "text/plain": [
       "<Figure size 432x288 with 1 Axes>"
      ]
     },
     "metadata": {
      "needs_background": "light"
     },
     "output_type": "display_data"
    },
    {
     "data": {
      "image/png": "[encoded data removed]",
      "text/plain": [
       "<Figure size 432x288 with 1 Axes>"
      ]
     },
     "metadata": {
      "needs_background": "light"
     },
     "output_type": "display_data"
    },
    {
     "data": {
      "image/png": "[encoded data removed]",
      "text/plain": [
       "<Figure size 432x288 with 1 Axes>"
      ]
     },
     "metadata": {
      "needs_background": "light"
     },
     "output_type": "display_data"
    },
    {
     "data": {
      "image/png": "[encoded data removed]",
      "text/plain": [
       "<Figure size 432x288 with 1 Axes>"
      ]
     },
     "metadata": {
      "needs_background": "light"
     },
     "output_type": "display_data"
    }
   ],
   "source": [
    "columns=['Age','Commision','Duration','Sales']\n",
    "for i in columns:\n",
    "    plt.figure()\n",
    "    plt.title(i)\n",
    "    plt.boxplot(df_insurance[i])\n",
    "    plt.tight_layout()"
   ]
  },
  {
   "cell_type": "markdown",
   "id": "5b2b5478",
   "metadata": {},
   "source": [
    "Outliers are present in all numeric features."
   ]
  },
  {
   "cell_type": "markdown",
   "id": "4eb1b2c4",
   "metadata": {},
   "source": [
    "Treatment of outliers:"
   ]
  },
  {
   "cell_type": "code",
   "execution_count": 10,
   "id": "bc54c55f",
   "metadata": {},
   "outputs": [],
   "source": [
    "def remove_outlier(col):\n",
    "    sorted(col)\n",
    "    Q1,Q3=col.quantile([0.25,0.75])\n",
    "    IQR=Q3-Q1\n",
    "    lower_range= Q1-(1.5 * IQR)\n",
    "    upper_range= Q3+(1.5 * IQR)\n",
    "    return lower_range, upper_range    "
   ]
  },
  {
   "cell_type": "code",
   "execution_count": 11,
   "id": "72f91be8",
   "metadata": {},
   "outputs": [],
   "source": [
    "#Age\n",
    "lra,ura=remove_outlier(df_insurance['Age'])\n",
    "df_insurance['Age']=np.where(df_insurance['Age']>ura,ura,df_insurance['Age'])\n",
    "df_insurance['Age']=np.where(df_insurance['Age']<lra,lra,df_insurance['Age'])\n",
    "\n",
    "#Commision\n",
    "lrc,urc=remove_outlier(df_insurance['Commision'])\n",
    "df_insurance['Commision']=np.where(df_insurance['Commision']>urc,urc,df_insurance['Commision'])\n",
    "df_insurance['Commision']=np.where(df_insurance['Commision']<lrc,lrc,df_insurance['Commision'])\n",
    "\n",
    "#Duration\n",
    "lrd,urd=remove_outlier(df_insurance['Duration'])\n",
    "df_insurance['Duration']=np.where(df_insurance['Duration']>urd,urd,df_insurance['Duration'])\n",
    "df_insurance['Duration']=np.where(df_insurance['Duration']<lrd,lrd,df_insurance['Duration'])\n",
    "\n",
    "#Sales\n",
    "lrs,urs=remove_outlier(df_insurance['Sales'])\n",
    "df_insurance['Sales']=np.where(df_insurance['Sales']>urs,urs,df_insurance['Sales'])\n",
    "df_insurance['Sales']=np.where(df_insurance['Sales']<lrs,lrs,df_insurance['Sales'])"
   ]
  },
  {
   "cell_type": "code",
   "execution_count": 12,
   "id": "593f5bdb",
   "metadata": {
    "scrolled": true
   },
   "outputs": [
    {
     "data": {
      "image/png": "[encoded data removed]",
      "text/plain": [
       "<Figure size 432x288 with 1 Axes>"
      ]
     },
     "metadata": {
      "needs_background": "light"
     },
     "output_type": "display_data"
    },
    {
     "data": {
      "image/png": "[encoded data removed]",
      "text/plain": [
       "<Figure size 432x288 with 1 Axes>"
      ]
     },
     "metadata": {
      "needs_background": "light"
     },
     "output_type": "display_data"
    },
    {
     "data": {
      "image/png": "[encoded data removed]",
      "text/plain": [
       "<Figure size 432x288 with 1 Axes>"
      ]
     },
     "metadata": {
      "needs_background": "light"
     },
     "output_type": "display_data"
    },
    {
     "data": {
      "image/png": "[encoded data removed]",
      "text/plain": [
       "<Figure size 432x288 with 1 Axes>"
      ]
     },
     "metadata": {
      "needs_background": "light"
     },
     "output_type": "display_data"
    }
   ],
   "source": [
    "for i in columns:\n",
    "    plt.figure()\n",
    "    plt.title(i)\n",
    "    plt.boxplot(df_insurance[i])\n",
    "    plt.tight_layout()"
   ]
  },
  {
   "cell_type": "markdown",
   "id": "27bf09e3",
   "metadata": {},
   "source": [
    "Outliers are treated succesfully before making the models."
   ]
  },
  {
   "cell_type": "markdown",
   "id": "d60e58b4",
   "metadata": {},
   "source": [
    "Bivariate analysis:"
   ]
  },
  {
   "cell_type": "code",
   "execution_count": 24,
   "id": "25db60be",
   "metadata": {},
   "outputs": [
    {
     "data": {
      "image/png": "[encoded data removed]",
      "text/plain": [
       "<Figure size 720x720 with 20 Axes>"
      ]
     },
     "metadata": {
      "needs_background": "light"
     },
     "output_type": "display_data"
    }
   ],
   "source": [
    "sns.pairplot(df_insurance);"
   ]
  },
  {
   "cell_type": "code",
   "execution_count": 25,
   "id": "8cdad4b3",
   "metadata": {
    "scrolled": true
   },
   "outputs": [
    {
     "data": {
      "image/png": "[encoded data removed]",
      "text/plain": [
       "<Figure size 1152x720 with 2 Axes>"
      ]
     },
     "metadata": {
      "needs_background": "light"
     },
     "output_type": "display_data"
    }
   ],
   "source": [
    "plt.figure(figsize=(16,10))\n",
    "sns.heatmap(df_insurance.corr(),annot=True,fmt=\".2f\");"
   ]
  },
  {
   "cell_type": "markdown",
   "id": "890c59ef",
   "metadata": {},
   "source": [
    "'Commision' and 'Sales' have moderate correlation among all the pairs."
   ]
  },
  {
   "cell_type": "markdown",
   "id": "00275cca",
   "metadata": {},
   "source": [
    "Multivariate analysis:"
   ]
  },
  {
   "cell_type": "code",
   "execution_count": 13,
   "id": "f64d1c4b",
   "metadata": {
    "scrolled": true
   },
   "outputs": [
    {
     "data": {
      "text/plain": [
       "Text(0.5, 1.0, 'Box plot of Agency code and Sales')"
      ]
     },
     "execution_count": 13,
     "metadata": {},
     "output_type": "execute_result"
    },
    {
     "data": {
      "image/png": "[encoded data removed]",
      "text/plain": [
       "<Figure size 1152x576 with 1 Axes>"
      ]
     },
     "metadata": {
      "needs_background": "light"
     },
     "output_type": "display_data"
    }
   ],
   "source": [
    "plt.figure(figsize=[16,8])\n",
    "sns.boxplot(x='Agency_Code',y='Sales', hue='Claimed', data=df_insurance)\n",
    "plt.title('Box plot of Agency code and Sales')"
   ]
  },
  {
   "cell_type": "markdown",
   "id": "c3be7809",
   "metadata": {},
   "source": [
    "Insights:\\\n",
    "1) C2B Agency has more sales for claimed customers.\n",
    "\n",
    "2) CWT Agency has more sales for non-claimed customers.\n",
    "\n",
    "3) JZI Agency has less sales for both claimed and non-claimed customers"
   ]
  },
  {
   "cell_type": "code",
   "execution_count": 29,
   "id": "49b96b8b",
   "metadata": {},
   "outputs": [
    {
     "data": {
      "text/plain": [
       "Text(0.5, 1.0, 'Box plot of Type and Sales for Claim status')"
      ]
     },
     "execution_count": 29,
     "metadata": {},
     "output_type": "execute_result"
    },
    {
     "data": {
      "image/png": "[encoded data removed]",
      "text/plain": [
       "<Figure size 1152x576 with 1 Axes>"
      ]
     },
     "metadata": {
      "needs_background": "light"
     },
     "output_type": "display_data"
    }
   ],
   "source": [
    "plt.figure(figsize=[16,8])\n",
    "sns.boxplot(x='Type',y='Sales', hue='Claimed', data=df_insurance)\n",
    "plt.title('Box plot of Type and Sales for Claim status')"
   ]
  },
  {
   "cell_type": "markdown",
   "id": "4a118f78",
   "metadata": {},
   "source": [
    "'Airlines' have more sales compared to 'Travel Agency' for claimed customers and vice versa for non-claimed customers."
   ]
  },
  {
   "cell_type": "code",
   "execution_count": 30,
   "id": "ab11db8f",
   "metadata": {},
   "outputs": [
    {
     "data": {
      "text/plain": [
       "Text(0.5, 1.0, 'Box plot of Channel and Sales for Claim status')"
      ]
     },
     "execution_count": 30,
     "metadata": {},
     "output_type": "execute_result"
    },
    {
     "data": {
      "image/png": "[encoded data removed]",
      "text/plain": [
       "<Figure size 1152x576 with 1 Axes>"
      ]
     },
     "metadata": {
      "needs_background": "light"
     },
     "output_type": "display_data"
    }
   ],
   "source": [
    "plt.figure(figsize=[16,8])\n",
    "sns.boxplot(x='Channel',y='Sales', hue='Claimed', data=df_insurance)\n",
    "plt.title('Box plot of Channel and Sales for Claim status')"
   ]
  },
  {
   "cell_type": "markdown",
   "id": "aabbbf54",
   "metadata": {},
   "source": [
    "'Online' services are more preferred for tour planning."
   ]
  },
  {
   "cell_type": "code",
   "execution_count": 31,
   "id": "645d8e15",
   "metadata": {},
   "outputs": [
    {
     "data": {
      "text/plain": [
       "Text(0.5, 1.0, 'Box plot of Destination and Sales for Claim status')"
      ]
     },
     "execution_count": 31,
     "metadata": {},
     "output_type": "execute_result"
    },
    {
     "data": {
      "image/png": "[encoded data removed]",
      "text/plain": [
       "<Figure size 1152x576 with 1 Axes>"
      ]
     },
     "metadata": {
      "needs_background": "light"
     },
     "output_type": "display_data"
    }
   ],
   "source": [
    "plt.figure(figsize=[16,8])\n",
    "sns.boxplot(x='Destination',y='Sales', hue='Claimed', data=df_insurance)\n",
    "plt.title('Box plot of Destination and Sales for Claim status')"
   ]
  },
  {
   "cell_type": "markdown",
   "id": "80105d28",
   "metadata": {},
   "source": [
    "1) Customers spending more across 'Asia' and 'America' compared to 'Europe'.\n",
    "\n",
    "2) On an average, 'America' has more sales for both claimed and non-claimed customers (almost similar with 'Europe' for non-claimed customers)"
   ]
  },
  {
   "cell_type": "code",
   "execution_count": 32,
   "id": "8bbe4009",
   "metadata": {
    "scrolled": true
   },
   "outputs": [
    {
     "data": {
      "text/plain": [
       "Text(0.5, 1.0, 'Box plot of Destination and Duration for Claim status')"
      ]
     },
     "execution_count": 32,
     "metadata": {},
     "output_type": "execute_result"
    },
    {
     "data": {
      "image/png": "[encoded data removed]",
      "text/plain": [
       "<Figure size 1152x576 with 1 Axes>"
      ]
     },
     "metadata": {
      "needs_background": "light"
     },
     "output_type": "display_data"
    }
   ],
   "source": [
    "plt.figure(figsize=[16,8])\n",
    "sns.boxplot(x='Destination',y='Duration', hue='Claimed', data=df_insurance)\n",
    "plt.title('Box plot of Destination and Duration for Claim status')"
   ]
  },
  {
   "cell_type": "markdown",
   "id": "c40f4da8",
   "metadata": {},
   "source": [
    "On an average, customers are spending more time in 'America', and then in 'Asia'"
   ]
  },
  {
   "cell_type": "code",
   "execution_count": 33,
   "id": "d8e57fbb",
   "metadata": {
    "scrolled": true
   },
   "outputs": [
    {
     "data": {
      "text/plain": [
       "Age              41\n",
       "Agency_Code       4\n",
       "Type              2\n",
       "Claimed           2\n",
       "Commision       251\n",
       "Channel           2\n",
       "Duration        139\n",
       "Sales           258\n",
       "Product Name      5\n",
       "Destination       3\n",
       "dtype: int64"
      ]
     },
     "execution_count": 33,
     "metadata": {},
     "output_type": "execute_result"
    }
   ],
   "source": [
    "df_insurance.nunique()"
   ]
  },
  {
   "cell_type": "code",
   "execution_count": 14,
   "id": "79bd4196",
   "metadata": {},
   "outputs": [
    {
     "data": {
      "text/plain": [
       "<seaborn.axisgrid.FacetGrid at 0x211fb841460>"
      ]
     },
     "execution_count": 14,
     "metadata": {},
     "output_type": "execute_result"
    },
    {
     "data": {
      "image/png": "[encoded data removed]",
      "text/plain": [
       "<Figure size 700x432 with 5 Axes>"
      ]
     },
     "metadata": {
      "needs_background": "light"
     },
     "output_type": "display_data"
    }
   ],
   "source": [
    "g = sns.FacetGrid(df_insurance, col=\"Product Name\", hue='Claimed',col_wrap=3, height=3)\n",
    "g = g.map(plt.scatter, \"Sales\", 'Commision')\n",
    "g.add_legend()"
   ]
  },
  {
   "cell_type": "markdown",
   "id": "3bb75cb6",
   "metadata": {},
   "source": [
    "1) For 'Silver plan' and 'Gold plan', there is very good correlation b/w Sales and Commision.\n",
    "\n",
    "2) For 'Customised plan' and 'Bronze plan', there is very moderate correlation b/w Sales and Commision.\n",
    "\n",
    "3) Poor correlation exists for 'Cancellation plan' b/w Sales and Commision.\n",
    "\n"
   ]
  },
  {
   "cell_type": "code",
   "execution_count": null,
   "id": "0dc2dc2b",
   "metadata": {},
   "outputs": [],
   "source": []
  },
  {
   "cell_type": "code",
   "execution_count": null,
   "id": "c78ec7b2",
   "metadata": {},
   "outputs": [],
   "source": []
  },
  {
   "cell_type": "code",
   "execution_count": null,
   "id": "7153fb3d",
   "metadata": {},
   "outputs": [],
   "source": []
  },
  {
   "cell_type": "markdown",
   "id": "5f25d604",
   "metadata": {},
   "source": [
    "\n",
    "## 2.2 Data Split: Split the data into test and train, build classification model CART, Random Forest, Artificial Neural Network"
   ]
  },
  {
   "cell_type": "markdown",
   "id": "80eb0e06",
   "metadata": {},
   "source": [
    "\n",
    "2.2 Data Split: Split the data into test and train(1 pts),\\\n",
    "Build classification model CART (1.5 pts), \\\n",
    "Random Forest (1.5 pts), Artificial Neural Network(1.5 pts).\n",
    "\n",
    "Object data should be converted into categorical/numerical data to fit in the models.(pd.categorical().codes(), pd.get_dummies(drop_first=True)) \n",
    "\n",
    "Data split, ratio defined for the split, train-test split should be discussed. Any reasonable split is acceptable. \\\n",
    "Use of random state is mandatory. \n",
    "\n",
    "Successful implementation of each model.\n",
    "\n",
    "Logical reason behind the selection of different values for the parameters involved in each model.\n",
    "\n",
    "Apply grid search for each model and make models on best_params.\n",
    "\n",
    "Feature importance for each model.\\\n",
    "5.5"
   ]
  },
  {
   "cell_type": "code",
   "execution_count": null,
   "id": "225bc53f",
   "metadata": {},
   "outputs": [],
   "source": []
  },
  {
   "cell_type": "markdown",
   "id": "ea810e42",
   "metadata": {},
   "source": [
    "## Data Encoding:"
   ]
  },
  {
   "cell_type": "markdown",
   "id": "febe03fc",
   "metadata": {},
   "source": [
    "Converting object data into categorical/numercial data:"
   ]
  },
  {
   "cell_type": "code",
   "execution_count": 15,
   "id": "b9030381",
   "metadata": {},
   "outputs": [],
   "source": [
    "for feature in df_insurance: \n",
    "    if df_insurance[feature].dtype == 'object': \n",
    "        df_insurance[feature] = pd.Categorical(df_insurance[feature]).codes  \n"
   ]
  },
  {
   "cell_type": "code",
   "execution_count": 16,
   "id": "2a996b85",
   "metadata": {
    "scrolled": false
   },
   "outputs": [
    {
     "data": {
      "text/html": [
       "<div>\n",
       "<style scoped>\n",
       "    .dataframe tbody tr th:only-of-type {\n",
       "        vertical-align: middle;\n",
       "    }\n",
       "\n",
       "    .dataframe tbody tr th {\n",
       "        vertical-align: top;\n",
       "    }\n",
       "\n",
       "    .dataframe thead th {\n",
       "        text-align: right;\n",
       "    }\n",
       "</style>\n",
       "<table border=\"1\" class=\"dataframe\">\n",
       "  <thead>\n",
       "    <tr style=\"text-align: right;\">\n",
       "      <th></th>\n",
       "      <th>Age</th>\n",
       "      <th>Agency_Code</th>\n",
       "      <th>Type</th>\n",
       "      <th>Claimed</th>\n",
       "      <th>Commision</th>\n",
       "      <th>Channel</th>\n",
       "      <th>Duration</th>\n",
       "      <th>Sales</th>\n",
       "      <th>Product Name</th>\n",
       "      <th>Destination</th>\n",
       "    </tr>\n",
       "  </thead>\n",
       "  <tbody>\n",
       "    <tr>\n",
       "      <th>0</th>\n",
       "      <td>48.0</td>\n",
       "      <td>0</td>\n",
       "      <td>0</td>\n",
       "      <td>0</td>\n",
       "      <td>0.70</td>\n",
       "      <td>1</td>\n",
       "      <td>7.0</td>\n",
       "      <td>2.51</td>\n",
       "      <td>2</td>\n",
       "      <td>0</td>\n",
       "    </tr>\n",
       "    <tr>\n",
       "      <th>1</th>\n",
       "      <td>36.0</td>\n",
       "      <td>2</td>\n",
       "      <td>1</td>\n",
       "      <td>0</td>\n",
       "      <td>0.00</td>\n",
       "      <td>1</td>\n",
       "      <td>34.0</td>\n",
       "      <td>20.00</td>\n",
       "      <td>2</td>\n",
       "      <td>0</td>\n",
       "    </tr>\n",
       "    <tr>\n",
       "      <th>2</th>\n",
       "      <td>39.0</td>\n",
       "      <td>1</td>\n",
       "      <td>1</td>\n",
       "      <td>0</td>\n",
       "      <td>5.94</td>\n",
       "      <td>1</td>\n",
       "      <td>3.0</td>\n",
       "      <td>9.90</td>\n",
       "      <td>2</td>\n",
       "      <td>1</td>\n",
       "    </tr>\n",
       "    <tr>\n",
       "      <th>3</th>\n",
       "      <td>36.0</td>\n",
       "      <td>2</td>\n",
       "      <td>1</td>\n",
       "      <td>0</td>\n",
       "      <td>0.00</td>\n",
       "      <td>1</td>\n",
       "      <td>4.0</td>\n",
       "      <td>26.00</td>\n",
       "      <td>1</td>\n",
       "      <td>0</td>\n",
       "    </tr>\n",
       "    <tr>\n",
       "      <th>4</th>\n",
       "      <td>33.0</td>\n",
       "      <td>3</td>\n",
       "      <td>0</td>\n",
       "      <td>0</td>\n",
       "      <td>6.30</td>\n",
       "      <td>1</td>\n",
       "      <td>53.0</td>\n",
       "      <td>18.00</td>\n",
       "      <td>0</td>\n",
       "      <td>0</td>\n",
       "    </tr>\n",
       "  </tbody>\n",
       "</table>\n",
       "</div>"
      ],
      "text/plain": [
       "    Age  Agency_Code  Type  Claimed  Commision  Channel  Duration  Sales  \\\n",
       "0  48.0            0     0        0       0.70        1       7.0   2.51   \n",
       "1  36.0            2     1        0       0.00        1      34.0  20.00   \n",
       "2  39.0            1     1        0       5.94        1       3.0   9.90   \n",
       "3  36.0            2     1        0       0.00        1       4.0  26.00   \n",
       "4  33.0            3     0        0       6.30        1      53.0  18.00   \n",
       "\n",
       "   Product Name  Destination  \n",
       "0             2            0  \n",
       "1             2            0  \n",
       "2             2            1  \n",
       "3             1            0  \n",
       "4             0            0  "
      ]
     },
     "execution_count": 16,
     "metadata": {},
     "output_type": "execute_result"
    }
   ],
   "source": [
    "df_insurance.head()"
   ]
  },
  {
   "cell_type": "markdown",
   "id": "70018015",
   "metadata": {},
   "source": [
    "Dataset encoded successfully"
   ]
  },
  {
   "cell_type": "code",
   "execution_count": 17,
   "id": "603b50e3",
   "metadata": {},
   "outputs": [
    {
     "data": {
      "text/plain": [
       "(3000, 10)"
      ]
     },
     "execution_count": 17,
     "metadata": {},
     "output_type": "execute_result"
    }
   ],
   "source": [
    "df_insurance1=df_insurance.copy()\n",
    "df_insurance1.shape"
   ]
  },
  {
   "cell_type": "markdown",
   "id": "d0c373cd",
   "metadata": {},
   "source": [
    "We can see dataset has been copied successfully\n",
    "\n",
    "Let us use the scaled data for ANN model and non-scaled data for CART and RF models."
   ]
  },
  {
   "cell_type": "code",
   "execution_count": null,
   "id": "066e06a4",
   "metadata": {},
   "outputs": [],
   "source": []
  },
  {
   "cell_type": "markdown",
   "id": "036907ac",
   "metadata": {},
   "source": [
    "## Splitting the data into Train and Test set"
   ]
  },
  {
   "cell_type": "code",
   "execution_count": 18,
   "id": "c0b8a979",
   "metadata": {},
   "outputs": [],
   "source": [
    "X = df_insurance.drop(\"Claimed\", axis=1)\n",
    "\n",
    "y = df_insurance.pop(\"Claimed\") "
   ]
  },
  {
   "cell_type": "code",
   "execution_count": null,
   "id": "9ee46aaa",
   "metadata": {},
   "outputs": [],
   "source": []
  },
  {
   "cell_type": "code",
   "execution_count": 19,
   "id": "624b9bbc",
   "metadata": {},
   "outputs": [],
   "source": [
    "from sklearn.model_selection import train_test_split"
   ]
  },
  {
   "cell_type": "code",
   "execution_count": 20,
   "id": "5a53c96d",
   "metadata": {},
   "outputs": [],
   "source": [
    "X_train,X_test,y_train,y_test=train_test_split(X, y, test_size = 0.30, random_state = 1)"
   ]
  },
  {
   "cell_type": "code",
   "execution_count": 21,
   "id": "b9466559",
   "metadata": {},
   "outputs": [
    {
     "name": "stdout",
     "output_type": "stream",
     "text": [
      "X_train (2100, 9)\n",
      "X_test (900, 9)\n",
      "y_train (2100,)\n",
      "y_test (900,)\n"
     ]
    }
   ],
   "source": [
    "print('X_train', X_train.shape)\n",
    "print('X_test', X_test.shape)\n",
    "print('y_train', y_train.shape)\n",
    "print('y_test', y_test.shape)"
   ]
  },
  {
   "cell_type": "markdown",
   "id": "b503fdb4",
   "metadata": {},
   "source": [
    "Dataset has been splitted successfully with 30% of the test data."
   ]
  },
  {
   "cell_type": "code",
   "execution_count": 23,
   "id": "23b81b47",
   "metadata": {},
   "outputs": [],
   "source": [
    "from sklearn.preprocessing import StandardScaler\n",
    "from sklearn.neural_network import MLPClassifier\n",
    "from sklearn.tree import DecisionTreeClassifier\n",
    "from sklearn.ensemble import RandomForestClassifier\n",
    "from sklearn.metrics import confusion_matrix,classification_report,roc_auc_score,accuracy_score,roc_auc_score,roc_curve"
   ]
  },
  {
   "cell_type": "markdown",
   "id": "7687952a",
   "metadata": {},
   "source": [
    "## 1) DecisionTree model:"
   ]
  },
  {
   "cell_type": "code",
   "execution_count": 92,
   "id": "673c789b",
   "metadata": {},
   "outputs": [
    {
     "data": {
      "text/plain": [
       "DecisionTreeClassifier()"
      ]
     },
     "execution_count": 92,
     "metadata": {},
     "output_type": "execute_result"
    }
   ],
   "source": [
    "dt_model1=DecisionTreeClassifier(criterion='gini')\n",
    "dt_model1.fit(X_train,y_train)"
   ]
  },
  {
   "cell_type": "code",
   "execution_count": 93,
   "id": "e7a8ae4b",
   "metadata": {},
   "outputs": [],
   "source": [
    "from sklearn import tree"
   ]
  },
  {
   "cell_type": "code",
   "execution_count": 94,
   "id": "70635dfb",
   "metadata": {},
   "outputs": [],
   "source": [
    "train_char_label = ['No', 'Yes']\n",
    "insurance_Tree_File = open('d:\\insurance_tree.dot','w')\n",
    "dot_data = tree.export_graphviz(dt_model1, out_file=insurance_Tree_File, feature_names = list(X_train), class_names = list(train_char_label))\n",
    "\n",
    "insurance_Tree_File.close()"
   ]
  },
  {
   "cell_type": "markdown",
   "id": "27fb9b1a",
   "metadata": {},
   "source": [
    "As per tree diagram, best feature taken for decision tree is 'Agency_code', gini gain is 0.436.\n",
    "\n",
    "From tree diagram, we can choose optimum depth as 10"
   ]
  },
  {
   "cell_type": "code",
   "execution_count": null,
   "id": "f505e82d",
   "metadata": {},
   "outputs": [],
   "source": []
  },
  {
   "cell_type": "code",
   "execution_count": 95,
   "id": "b18e3b20",
   "metadata": {},
   "outputs": [],
   "source": [
    "from sklearn.model_selection import GridSearchCV\n",
    "\n",
    "param_grid_dt = {\n",
    "    'max_depth': [6, 7, 8, 9],\n",
    "    'min_samples_leaf': [10, 15, 20, 25],\n",
    "    'min_samples_split': [30, 45, 60, 75]\n",
    "}\n",
    "\n",
    "dt_model2 = DecisionTreeClassifier(criterion='gini')\n",
    "\n",
    "grid_search_dt = GridSearchCV(estimator = dt_model2, param_grid = param_grid_dt, cv = 3)"
   ]
  },
  {
   "cell_type": "code",
   "execution_count": 96,
   "id": "617c8937",
   "metadata": {
    "scrolled": false
   },
   "outputs": [
    {
     "data": {
      "text/plain": [
       "GridSearchCV(cv=3, estimator=DecisionTreeClassifier(),\n",
       "             param_grid={'max_depth': [6, 7, 8, 9],\n",
       "                         'min_samples_leaf': [10, 15, 20, 25],\n",
       "                         'min_samples_split': [30, 45, 60, 75]})"
      ]
     },
     "execution_count": 96,
     "metadata": {},
     "output_type": "execute_result"
    }
   ],
   "source": [
    "grid_search_dt.fit(X_train, y_train)"
   ]
  },
  {
   "cell_type": "code",
   "execution_count": 97,
   "id": "072a6792",
   "metadata": {},
   "outputs": [
    {
     "data": {
      "text/plain": [
       "{'max_depth': 7, 'min_samples_leaf': 10, 'min_samples_split': 75}"
      ]
     },
     "execution_count": 97,
     "metadata": {},
     "output_type": "execute_result"
    }
   ],
   "source": [
    "grid_search_dt.best_params_"
   ]
  },
  {
   "cell_type": "code",
   "execution_count": 98,
   "id": "47e0f547",
   "metadata": {},
   "outputs": [],
   "source": [
    "best_grid_dt = grid_search_dt.best_estimator_"
   ]
  },
  {
   "cell_type": "code",
   "execution_count": 99,
   "id": "0f36b4b6",
   "metadata": {},
   "outputs": [],
   "source": [
    "train_char_label = ['no', 'yes']\n",
    "tree_regularized = open('tree_regularized.dot','w')\n",
    "dot_data = tree.export_graphviz(best_grid_dt, out_file= tree_regularized ,\n",
    "                                feature_names = list(X_train),\n",
    "                                class_names = list(train_char_label))\n",
    "\n",
    "tree_regularized.close()\n",
    "dot_data"
   ]
  },
  {
   "cell_type": "code",
   "execution_count": 100,
   "id": "ea2c5a67",
   "metadata": {
    "scrolled": true
   },
   "outputs": [
    {
     "name": "stdout",
     "output_type": "stream",
     "text": [
      "                   Imp\n",
      "Age           0.035301\n",
      "Agency_Code   0.543867\n",
      "Type          0.000000\n",
      "Commision     0.027879\n",
      "Channel       0.000000\n",
      "Duration      0.067383\n",
      "Sales         0.256950\n",
      "Product Name  0.068620\n",
      "Destination   0.000000\n"
     ]
    }
   ],
   "source": [
    "print (pd.DataFrame(grid_search_dt.best_estimator_.feature_importances_, columns = [\"Imp\"], index = X_train.columns))\n"
   ]
  },
  {
   "cell_type": "markdown",
   "id": "0f2cd4dd",
   "metadata": {},
   "source": [
    "From Gridsearch also, we can see 'Agency_Code' is the best feature for the classification."
   ]
  },
  {
   "cell_type": "code",
   "execution_count": null,
   "id": "6819d6df",
   "metadata": {},
   "outputs": [],
   "source": []
  },
  {
   "cell_type": "markdown",
   "id": "fdb49804",
   "metadata": {},
   "source": [
    "## 2) Random Forest Classifier:"
   ]
  },
  {
   "cell_type": "code",
   "execution_count": 25,
   "id": "9a8503d3",
   "metadata": {},
   "outputs": [],
   "source": [
    "rfcl1 = RandomForestClassifier(n_estimators=101, \n",
    "                              oob_score=True, \n",
    "                              max_depth=10, \n",
    "                              max_features=5, \n",
    "                              min_samples_leaf=50,\n",
    "                              min_samples_split=100)\n",
    "rfcl1 = rfcl1.fit(X_train, y_train)"
   ]
  },
  {
   "cell_type": "code",
   "execution_count": 26,
   "id": "7e449694",
   "metadata": {},
   "outputs": [
    {
     "data": {
      "text/plain": [
       "0.7866666666666666"
      ]
     },
     "execution_count": 26,
     "metadata": {},
     "output_type": "execute_result"
    }
   ],
   "source": [
    "rfcl1.oob_score_"
   ]
  },
  {
   "cell_type": "code",
   "execution_count": 27,
   "id": "6272380b",
   "metadata": {},
   "outputs": [],
   "source": [
    "from sklearn.model_selection import GridSearchCV"
   ]
  },
  {
   "cell_type": "code",
   "execution_count": 28,
   "id": "aea7a4b0",
   "metadata": {},
   "outputs": [],
   "source": [
    "param_grid_rf = {\n",
    "    'max_depth': [7, 10],\n",
    "    'max_features': [4, 6],\n",
    "    'min_samples_leaf': [50, 100],\n",
    "    'min_samples_split': [150, 300],\n",
    "    'n_estimators': [101, 301]\n",
    "}\n",
    "\n",
    "rfcl2= RandomForestClassifier()\n",
    "\n",
    "grid_search_rf = GridSearchCV(estimator = rfcl2, param_grid = param_grid_rf, cv = 3) \n"
   ]
  },
  {
   "cell_type": "code",
   "execution_count": 29,
   "id": "186470e4",
   "metadata": {},
   "outputs": [
    {
     "data": {
      "text/plain": [
       "GridSearchCV(cv=3, estimator=RandomForestClassifier(),\n",
       "             param_grid={'max_depth': [7, 10], 'max_features': [4, 6],\n",
       "                         'min_samples_leaf': [50, 100],\n",
       "                         'min_samples_split': [150, 300],\n",
       "                         'n_estimators': [101, 301]})"
      ]
     },
     "execution_count": 29,
     "metadata": {},
     "output_type": "execute_result"
    }
   ],
   "source": [
    "grid_search_rf.fit(X_train, y_train)"
   ]
  },
  {
   "cell_type": "code",
   "execution_count": 52,
   "id": "bbfecf8d",
   "metadata": {},
   "outputs": [
    {
     "data": {
      "text/plain": [
       "{'max_depth': 7,\n",
       " 'max_features': 4,\n",
       " 'min_samples_leaf': 100,\n",
       " 'min_samples_split': 300,\n",
       " 'n_estimators': 101}"
      ]
     },
     "execution_count": 52,
     "metadata": {},
     "output_type": "execute_result"
    }
   ],
   "source": [
    "grid_search_rf.best_params_"
   ]
  },
  {
   "cell_type": "code",
   "execution_count": 53,
   "id": "09a3e608",
   "metadata": {},
   "outputs": [],
   "source": [
    "best_grid_rf = grid_search_rf.best_estimator_"
   ]
  },
  {
   "cell_type": "code",
   "execution_count": 54,
   "id": "8cbc80f4",
   "metadata": {},
   "outputs": [
    {
     "name": "stdout",
     "output_type": "stream",
     "text": [
      "                   Imp\n",
      "Age           0.009411\n",
      "Agency_Code   0.358238\n",
      "Type          0.091378\n",
      "Commision     0.093730\n",
      "Channel       0.000000\n",
      "Duration      0.028239\n",
      "Sales         0.119442\n",
      "Product Name  0.294780\n",
      "Destination   0.004781\n"
     ]
    }
   ],
   "source": [
    "print (pd.DataFrame(grid_search_rf.best_estimator_.feature_importances_, columns = [\"Imp\"], index = X_train.columns))\n"
   ]
  },
  {
   "cell_type": "markdown",
   "id": "3e8b99f0",
   "metadata": {},
   "source": [
    "By RF model also, \"Agency_Code\" is best feature for model building."
   ]
  },
  {
   "cell_type": "code",
   "execution_count": null,
   "id": "039e3325",
   "metadata": {},
   "outputs": [],
   "source": []
  },
  {
   "cell_type": "markdown",
   "id": "2cf0053d",
   "metadata": {},
   "source": [
    "## 3) ANN:"
   ]
  },
  {
   "cell_type": "markdown",
   "id": "0099157b",
   "metadata": {},
   "source": [
    "Feature scaling:"
   ]
  },
  {
   "cell_type": "code",
   "execution_count": 33,
   "id": "54ae8fa2",
   "metadata": {},
   "outputs": [
    {
     "data": {
      "text/html": [
       "<div>\n",
       "<style scoped>\n",
       "    .dataframe tbody tr th:only-of-type {\n",
       "        vertical-align: middle;\n",
       "    }\n",
       "\n",
       "    .dataframe tbody tr th {\n",
       "        vertical-align: top;\n",
       "    }\n",
       "\n",
       "    .dataframe thead th {\n",
       "        text-align: right;\n",
       "    }\n",
       "</style>\n",
       "<table border=\"1\" class=\"dataframe\">\n",
       "  <thead>\n",
       "    <tr style=\"text-align: right;\">\n",
       "      <th></th>\n",
       "      <th>Age</th>\n",
       "      <th>Agency_Code</th>\n",
       "      <th>Type</th>\n",
       "      <th>Claimed</th>\n",
       "      <th>Commision</th>\n",
       "      <th>Channel</th>\n",
       "      <th>Duration</th>\n",
       "      <th>Sales</th>\n",
       "      <th>Product Name</th>\n",
       "      <th>Destination</th>\n",
       "    </tr>\n",
       "  </thead>\n",
       "  <tbody>\n",
       "    <tr>\n",
       "      <th>0</th>\n",
       "      <td>48.0</td>\n",
       "      <td>0</td>\n",
       "      <td>0</td>\n",
       "      <td>0</td>\n",
       "      <td>0.7000</td>\n",
       "      <td>1</td>\n",
       "      <td>7.0</td>\n",
       "      <td>2.51</td>\n",
       "      <td>2</td>\n",
       "      <td>0</td>\n",
       "    </tr>\n",
       "    <tr>\n",
       "      <th>1</th>\n",
       "      <td>36.0</td>\n",
       "      <td>2</td>\n",
       "      <td>1</td>\n",
       "      <td>0</td>\n",
       "      <td>0.0000</td>\n",
       "      <td>1</td>\n",
       "      <td>34.0</td>\n",
       "      <td>20.00</td>\n",
       "      <td>2</td>\n",
       "      <td>0</td>\n",
       "    </tr>\n",
       "    <tr>\n",
       "      <th>2</th>\n",
       "      <td>39.0</td>\n",
       "      <td>1</td>\n",
       "      <td>1</td>\n",
       "      <td>0</td>\n",
       "      <td>5.9400</td>\n",
       "      <td>1</td>\n",
       "      <td>3.0</td>\n",
       "      <td>9.90</td>\n",
       "      <td>2</td>\n",
       "      <td>1</td>\n",
       "    </tr>\n",
       "    <tr>\n",
       "      <th>3</th>\n",
       "      <td>36.0</td>\n",
       "      <td>2</td>\n",
       "      <td>1</td>\n",
       "      <td>0</td>\n",
       "      <td>0.0000</td>\n",
       "      <td>1</td>\n",
       "      <td>4.0</td>\n",
       "      <td>26.00</td>\n",
       "      <td>1</td>\n",
       "      <td>0</td>\n",
       "    </tr>\n",
       "    <tr>\n",
       "      <th>4</th>\n",
       "      <td>33.0</td>\n",
       "      <td>3</td>\n",
       "      <td>0</td>\n",
       "      <td>0</td>\n",
       "      <td>6.3000</td>\n",
       "      <td>1</td>\n",
       "      <td>53.0</td>\n",
       "      <td>18.00</td>\n",
       "      <td>0</td>\n",
       "      <td>0</td>\n",
       "    </tr>\n",
       "    <tr>\n",
       "      <th>...</th>\n",
       "      <td>...</td>\n",
       "      <td>...</td>\n",
       "      <td>...</td>\n",
       "      <td>...</td>\n",
       "      <td>...</td>\n",
       "      <td>...</td>\n",
       "      <td>...</td>\n",
       "      <td>...</td>\n",
       "      <td>...</td>\n",
       "      <td>...</td>\n",
       "    </tr>\n",
       "    <tr>\n",
       "      <th>2995</th>\n",
       "      <td>28.0</td>\n",
       "      <td>1</td>\n",
       "      <td>1</td>\n",
       "      <td>1</td>\n",
       "      <td>43.0875</td>\n",
       "      <td>1</td>\n",
       "      <td>141.0</td>\n",
       "      <td>142.50</td>\n",
       "      <td>3</td>\n",
       "      <td>1</td>\n",
       "    </tr>\n",
       "    <tr>\n",
       "      <th>2996</th>\n",
       "      <td>35.0</td>\n",
       "      <td>0</td>\n",
       "      <td>0</td>\n",
       "      <td>0</td>\n",
       "      <td>13.5000</td>\n",
       "      <td>1</td>\n",
       "      <td>5.0</td>\n",
       "      <td>54.00</td>\n",
       "      <td>3</td>\n",
       "      <td>0</td>\n",
       "    </tr>\n",
       "    <tr>\n",
       "      <th>2997</th>\n",
       "      <td>36.0</td>\n",
       "      <td>2</td>\n",
       "      <td>1</td>\n",
       "      <td>0</td>\n",
       "      <td>0.0000</td>\n",
       "      <td>1</td>\n",
       "      <td>54.0</td>\n",
       "      <td>28.00</td>\n",
       "      <td>2</td>\n",
       "      <td>0</td>\n",
       "    </tr>\n",
       "    <tr>\n",
       "      <th>2998</th>\n",
       "      <td>34.0</td>\n",
       "      <td>0</td>\n",
       "      <td>0</td>\n",
       "      <td>1</td>\n",
       "      <td>7.6400</td>\n",
       "      <td>1</td>\n",
       "      <td>39.0</td>\n",
       "      <td>30.55</td>\n",
       "      <td>0</td>\n",
       "      <td>0</td>\n",
       "    </tr>\n",
       "    <tr>\n",
       "      <th>2999</th>\n",
       "      <td>47.0</td>\n",
       "      <td>3</td>\n",
       "      <td>0</td>\n",
       "      <td>0</td>\n",
       "      <td>11.5500</td>\n",
       "      <td>1</td>\n",
       "      <td>15.0</td>\n",
       "      <td>33.00</td>\n",
       "      <td>0</td>\n",
       "      <td>0</td>\n",
       "    </tr>\n",
       "  </tbody>\n",
       "</table>\n",
       "<p>3000 rows × 10 columns</p>\n",
       "</div>"
      ],
      "text/plain": [
       "       Age  Agency_Code  Type  Claimed  Commision  Channel  Duration   Sales  \\\n",
       "0     48.0            0     0        0     0.7000        1       7.0    2.51   \n",
       "1     36.0            2     1        0     0.0000        1      34.0   20.00   \n",
       "2     39.0            1     1        0     5.9400        1       3.0    9.90   \n",
       "3     36.0            2     1        0     0.0000        1       4.0   26.00   \n",
       "4     33.0            3     0        0     6.3000        1      53.0   18.00   \n",
       "...    ...          ...   ...      ...        ...      ...       ...     ...   \n",
       "2995  28.0            1     1        1    43.0875        1     141.0  142.50   \n",
       "2996  35.0            0     0        0    13.5000        1       5.0   54.00   \n",
       "2997  36.0            2     1        0     0.0000        1      54.0   28.00   \n",
       "2998  34.0            0     0        1     7.6400        1      39.0   30.55   \n",
       "2999  47.0            3     0        0    11.5500        1      15.0   33.00   \n",
       "\n",
       "      Product Name  Destination  \n",
       "0                2            0  \n",
       "1                2            0  \n",
       "2                2            1  \n",
       "3                1            0  \n",
       "4                0            0  \n",
       "...            ...          ...  \n",
       "2995             3            1  \n",
       "2996             3            0  \n",
       "2997             2            0  \n",
       "2998             0            0  \n",
       "2999             0            0  \n",
       "\n",
       "[3000 rows x 10 columns]"
      ]
     },
     "execution_count": 33,
     "metadata": {},
     "output_type": "execute_result"
    }
   ],
   "source": [
    "df_insurance1"
   ]
  },
  {
   "cell_type": "code",
   "execution_count": 34,
   "id": "1918fbee",
   "metadata": {},
   "outputs": [],
   "source": [
    "X1 = df_insurance1.drop(\"Claimed\", axis=1)\n",
    "\n",
    "y1 = df_insurance1.pop(\"Claimed\") "
   ]
  },
  {
   "cell_type": "code",
   "execution_count": 35,
   "id": "db07814d",
   "metadata": {},
   "outputs": [],
   "source": [
    "X1_train,X1_test,y1_train,y1_test=train_test_split(X1, y1, test_size = 0.30, random_state = 1)"
   ]
  },
  {
   "cell_type": "code",
   "execution_count": 36,
   "id": "082f4e05",
   "metadata": {},
   "outputs": [
    {
     "name": "stdout",
     "output_type": "stream",
     "text": [
      "X1_train (2100, 9)\n",
      "X1_test (900, 9)\n",
      "y1_train (2100,)\n",
      "y1_test (900,)\n"
     ]
    }
   ],
   "source": [
    "print('X1_train', X_train.shape)\n",
    "print('X1_test', X_test.shape)\n",
    "print('y1_train', y_train.shape)\n",
    "print('y1_test', y_test.shape)"
   ]
  },
  {
   "cell_type": "code",
   "execution_count": 37,
   "id": "59087fcf",
   "metadata": {},
   "outputs": [],
   "source": [
    "from sklearn.preprocessing import StandardScaler"
   ]
  },
  {
   "cell_type": "code",
   "execution_count": 38,
   "id": "4459e7e1",
   "metadata": {},
   "outputs": [],
   "source": [
    "sc = StandardScaler()"
   ]
  },
  {
   "cell_type": "code",
   "execution_count": 39,
   "id": "5f6992b7",
   "metadata": {},
   "outputs": [],
   "source": [
    "X1_train = sc.fit_transform(X1_train)\n",
    "X1_test = sc.transform(X1_test)"
   ]
  },
  {
   "cell_type": "code",
   "execution_count": 40,
   "id": "7b85446b",
   "metadata": {
    "scrolled": false
   },
   "outputs": [
    {
     "data": {
      "text/plain": [
       "array([[-0.16645631,  0.72815922,  0.80520286, ..., -0.71237139,\n",
       "         0.24642411, -0.43926017],\n",
       "       [-0.16645631,  0.72815922,  0.80520286, ..., -0.1975992 ,\n",
       "         0.24642411,  1.27851702],\n",
       "       [-1.05932541, -1.28518425, -1.24192306, ...,  2.15397374,\n",
       "         1.83381865, -0.43926017],\n",
       "       ...,\n",
       "       [-0.16645631,  0.72815922,  0.80520286, ...,  0.29377425,\n",
       "         0.24642411, -0.43926017],\n",
       "       [ 0.72641279,  1.73483096, -1.24192306, ..., -0.75916886,\n",
       "        -1.34097044, -0.43926017],\n",
       "       [-0.16645631, -1.28518425, -1.24192306, ..., -0.65387455,\n",
       "         1.83381865, -0.43926017]])"
      ]
     },
     "execution_count": 40,
     "metadata": {},
     "output_type": "execute_result"
    }
   ],
   "source": [
    "X1_train"
   ]
  },
  {
   "cell_type": "code",
   "execution_count": 41,
   "id": "1c216e52",
   "metadata": {},
   "outputs": [
    {
     "data": {
      "text/plain": [
       "array([[-1.72897723, -0.27851251,  0.80520286, ...,  0.57455908,\n",
       "        -1.34097044,  2.99629421],\n",
       "       [ 1.95410779, -1.28518425, -1.24192306, ..., -0.56027961,\n",
       "        -1.34097044, -0.43926017],\n",
       "       [-0.94771677, -1.28518425, -1.24192306, ..., -0.80596633,\n",
       "        -1.34097044, -0.43926017],\n",
       "       ...,\n",
       "       [-0.16645631, -1.28518425, -1.24192306, ..., -0.54858024,\n",
       "        -1.34097044, -0.43926017],\n",
       "       [ 1.28445597,  1.73483096, -1.24192306, ..., -0.47838403,\n",
       "        -1.34097044, -0.43926017],\n",
       "       [-0.27806495,  1.73483096, -1.24192306, ..., -0.57197898,\n",
       "        -1.34097044, -0.43926017]])"
      ]
     },
     "execution_count": 41,
     "metadata": {},
     "output_type": "execute_result"
    }
   ],
   "source": [
    "X1_test"
   ]
  },
  {
   "cell_type": "code",
   "execution_count": 42,
   "id": "37441da9",
   "metadata": {},
   "outputs": [],
   "source": [
    "clf1 = MLPClassifier(hidden_layer_sizes=100,\n",
    "                    max_iter=5000,\n",
    "                    solver='sgd', \n",
    "                    verbose=True,  \n",
    "                    random_state=21,\n",
    "                    tol=0.01)\n"
   ]
  },
  {
   "cell_type": "code",
   "execution_count": 43,
   "id": "b55b9c10",
   "metadata": {},
   "outputs": [
    {
     "name": "stdout",
     "output_type": "stream",
     "text": [
      "Iteration 1, loss = 0.64244509\n",
      "Iteration 2, loss = 0.62392631\n",
      "Iteration 3, loss = 0.60292414\n",
      "Iteration 4, loss = 0.58458220\n",
      "Iteration 5, loss = 0.56914550\n",
      "Iteration 6, loss = 0.55651481\n",
      "Iteration 7, loss = 0.54598011\n",
      "Iteration 8, loss = 0.53752961\n",
      "Iteration 9, loss = 0.53051147\n",
      "Iteration 10, loss = 0.52440802\n",
      "Iteration 11, loss = 0.51934384\n",
      "Iteration 12, loss = 0.51483466\n",
      "Iteration 13, loss = 0.51108343\n",
      "Iteration 14, loss = 0.50763356\n",
      "Iteration 15, loss = 0.50476577\n",
      "Iteration 16, loss = 0.50218466\n",
      "Iteration 17, loss = 0.49989583\n",
      "Iteration 18, loss = 0.49786338\n",
      "Training loss did not improve more than tol=0.010000 for 10 consecutive epochs. Stopping.\n"
     ]
    },
    {
     "data": {
      "text/plain": [
       "MLPClassifier(hidden_layer_sizes=100, max_iter=5000, random_state=21,\n",
       "              solver='sgd', tol=0.01, verbose=True)"
      ]
     },
     "execution_count": 43,
     "metadata": {},
     "output_type": "execute_result"
    }
   ],
   "source": [
    "clf1.fit(X1_train, y1_train)"
   ]
  },
  {
   "cell_type": "code",
   "execution_count": 44,
   "id": "b5273bef",
   "metadata": {},
   "outputs": [],
   "source": [
    "param_grid_ann = {\n",
    "    'hidden_layer_sizes': [(100,100,100)],\n",
    "    'activation': ['logistic', 'relu'],\n",
    "    'solver': ['sgd', 'adam'],\n",
    "    'tol': [0.1,0.01],\n",
    "    'max_iter' : [10000]\n",
    "}\n",
    "\n",
    "ann1 = MLPClassifier()\n",
    "\n",
    "grid_search_ann = GridSearchCV(estimator = ann1, param_grid = param_grid_ann, cv = 3)"
   ]
  },
  {
   "cell_type": "code",
   "execution_count": 45,
   "id": "93d3a8fd",
   "metadata": {},
   "outputs": [
    {
     "data": {
      "text/plain": [
       "GridSearchCV(cv=3, estimator=MLPClassifier(),\n",
       "             param_grid={'activation': ['logistic', 'relu'],\n",
       "                         'hidden_layer_sizes': [(100, 100, 100)],\n",
       "                         'max_iter': [10000], 'solver': ['sgd', 'adam'],\n",
       "                         'tol': [0.1, 0.01]})"
      ]
     },
     "execution_count": 45,
     "metadata": {},
     "output_type": "execute_result"
    }
   ],
   "source": [
    "grid_search_ann.fit(X1_train, y1_train)"
   ]
  },
  {
   "cell_type": "code",
   "execution_count": 46,
   "id": "cfdad6ce",
   "metadata": {},
   "outputs": [
    {
     "data": {
      "text/plain": [
       "{'activation': 'relu',\n",
       " 'hidden_layer_sizes': (100, 100, 100),\n",
       " 'max_iter': 10000,\n",
       " 'solver': 'adam',\n",
       " 'tol': 0.1}"
      ]
     },
     "execution_count": 46,
     "metadata": {},
     "output_type": "execute_result"
    }
   ],
   "source": [
    "grid_search_ann.best_params_"
   ]
  },
  {
   "cell_type": "code",
   "execution_count": 47,
   "id": "4cd8a644",
   "metadata": {},
   "outputs": [],
   "source": [
    "best_grid_ann = grid_search_ann.best_estimator_"
   ]
  },
  {
   "cell_type": "raw",
   "id": "52f95e18",
   "metadata": {},
   "source": []
  },
  {
   "cell_type": "code",
   "execution_count": null,
   "id": "8f0b519d",
   "metadata": {},
   "outputs": [],
   "source": []
  },
  {
   "cell_type": "code",
   "execution_count": null,
   "id": "2c826411",
   "metadata": {},
   "outputs": [],
   "source": []
  },
  {
   "cell_type": "markdown",
   "id": "91a5d766",
   "metadata": {},
   "source": [
    "\n",
    "## 2.3 Performance Metrics: Comment and Check the performance of Predictions on Train and Test sets using Accuracy, Confusion Matrix, Plot ROC curve and get ROC_AUC score, classification reports for each model. "
   ]
  },
  {
   "cell_type": "markdown",
   "id": "ded6527f",
   "metadata": {},
   "source": [
    "\n",
    "2.3 Performance Metrics: Check the performance of Predictions on Train and Test sets using Accuracy (1 pts),\\\n",
    "Confusion Matrix (2 pts),\\\n",
    "Plot ROC curve and get ROC_AUC score for each model (2 pts),\\\n",
    "Make classification reports for each model. Write inferences on each model (2 pts).\\\n",
    "\n",
    "Calculate Train and Test Accuracies for each model. \\\n",
    "Comment on the validness of models (overfitting or underfitting) Build confusion matrix for each model. Comment on the positive class in hand. Must clearly show obs/pred in row/col \\\n",
    "Plot roc_curve for each model. \\\n",
    "Calculate roc_auc_score for each model. Comment on the above calculated scores and plots.\\\n",
    "Build classification reports for each model. Comment on f1 score, precision and recall, which one is important here.\\\n",
    "7"
   ]
  },
  {
   "cell_type": "markdown",
   "id": "bbbfec00",
   "metadata": {},
   "source": [
    "## 1) Decision Tree model:"
   ]
  },
  {
   "cell_type": "code",
   "execution_count": 101,
   "id": "f340551a",
   "metadata": {},
   "outputs": [
    {
     "data": {
      "text/plain": [
       "0.8028571428571428"
      ]
     },
     "execution_count": 101,
     "metadata": {},
     "output_type": "execute_result"
    }
   ],
   "source": [
    "acc_dt_train=best_grid_dt.score(X_train,y_train)\n",
    "acc_dt_train"
   ]
  },
  {
   "cell_type": "code",
   "execution_count": 102,
   "id": "e0a78ab4",
   "metadata": {},
   "outputs": [
    {
     "data": {
      "text/plain": [
       "0.76"
      ]
     },
     "execution_count": 102,
     "metadata": {},
     "output_type": "execute_result"
    }
   ],
   "source": [
    "acc_dt_test=best_grid_dt.score(X_test,y_test)\n",
    "acc_dt_test"
   ]
  },
  {
   "cell_type": "code",
   "execution_count": 103,
   "id": "5913d70e",
   "metadata": {},
   "outputs": [],
   "source": [
    "ytrain_predict_dt = best_grid_dt.predict(X_train)\n",
    "ytest_predict_dt = best_grid_dt.predict(X_test)"
   ]
  },
  {
   "cell_type": "code",
   "execution_count": 105,
   "id": "91403e07",
   "metadata": {},
   "outputs": [
    {
     "data": {
      "text/html": [
       "<div>\n",
       "<style scoped>\n",
       "    .dataframe tbody tr th:only-of-type {\n",
       "        vertical-align: middle;\n",
       "    }\n",
       "\n",
       "    .dataframe tbody tr th {\n",
       "        vertical-align: top;\n",
       "    }\n",
       "\n",
       "    .dataframe thead th {\n",
       "        text-align: right;\n",
       "    }\n",
       "</style>\n",
       "<table border=\"1\" class=\"dataframe\">\n",
       "  <thead>\n",
       "    <tr style=\"text-align: right;\">\n",
       "      <th></th>\n",
       "      <th>0</th>\n",
       "      <th>1</th>\n",
       "    </tr>\n",
       "  </thead>\n",
       "  <tbody>\n",
       "    <tr>\n",
       "      <th>0</th>\n",
       "      <td>0.983333</td>\n",
       "      <td>0.016667</td>\n",
       "    </tr>\n",
       "    <tr>\n",
       "      <th>1</th>\n",
       "      <td>0.539474</td>\n",
       "      <td>0.460526</td>\n",
       "    </tr>\n",
       "    <tr>\n",
       "      <th>2</th>\n",
       "      <td>0.539474</td>\n",
       "      <td>0.460526</td>\n",
       "    </tr>\n",
       "    <tr>\n",
       "      <th>3</th>\n",
       "      <td>0.157895</td>\n",
       "      <td>0.842105</td>\n",
       "    </tr>\n",
       "    <tr>\n",
       "      <th>4</th>\n",
       "      <td>0.909722</td>\n",
       "      <td>0.090278</td>\n",
       "    </tr>\n",
       "  </tbody>\n",
       "</table>\n",
       "</div>"
      ],
      "text/plain": [
       "          0         1\n",
       "0  0.983333  0.016667\n",
       "1  0.539474  0.460526\n",
       "2  0.539474  0.460526\n",
       "3  0.157895  0.842105\n",
       "4  0.909722  0.090278"
      ]
     },
     "execution_count": 105,
     "metadata": {},
     "output_type": "execute_result"
    }
   ],
   "source": [
    "ytest_predict_prob_dt=best_grid_dt.predict_proba(X_test)\n",
    "ytest_predict_prob_dt\n",
    "pd.DataFrame(ytest_predict_prob_dt).head()"
   ]
  },
  {
   "cell_type": "code",
   "execution_count": 106,
   "id": "713fe042",
   "metadata": {},
   "outputs": [],
   "source": [
    "from sklearn.metrics import classification_report,confusion_matrix"
   ]
  },
  {
   "cell_type": "code",
   "execution_count": 107,
   "id": "9bbb7b06",
   "metadata": {},
   "outputs": [
    {
     "data": {
      "text/plain": [
       "array([[1319,  152],\n",
       "       [ 262,  367]], dtype=int64)"
      ]
     },
     "execution_count": 107,
     "metadata": {},
     "output_type": "execute_result"
    }
   ],
   "source": [
    "confusion_matrix(y_train, ytrain_predict_dt)"
   ]
  },
  {
   "cell_type": "code",
   "execution_count": 108,
   "id": "b9a74e63",
   "metadata": {},
   "outputs": [
    {
     "data": {
      "text/plain": [
       "array([[542,  63],\n",
       "       [153, 142]], dtype=int64)"
      ]
     },
     "execution_count": 108,
     "metadata": {},
     "output_type": "execute_result"
    }
   ],
   "source": [
    "confusion_matrix(y_test, ytest_predict_dt)"
   ]
  },
  {
   "cell_type": "code",
   "execution_count": 115,
   "id": "8b616af0",
   "metadata": {},
   "outputs": [
    {
     "name": "stdout",
     "output_type": "stream",
     "text": [
      "roc_auc_dt_train: 0.854\n"
     ]
    },
    {
     "data": {
      "image/png": "[encoded data removed]",
      "text/plain": [
       "<Figure size 432x288 with 1 Axes>"
      ]
     },
     "metadata": {
      "needs_background": "light"
     },
     "output_type": "display_data"
    }
   ],
   "source": [
    "##dt_train data\n",
    "\n",
    "probs_dt_train = best_grid_dt.predict_proba(X_train)\n",
    "probs_dt_train = probs_dt_train[:, 1]\n",
    "from sklearn.metrics import roc_auc_score\n",
    "roc_auc_dt_train = roc_auc_score(y_train, probs_dt_train)\n",
    "print('roc_auc_dt_train: %.3f' % roc_auc_dt_train)\n",
    "from sklearn.metrics import roc_curve\n",
    "fpr, tpr, thresholds = roc_curve(y_train, probs_dt_train)  \n",
    "plt.plot([0, 1], [0, 1], linestyle='--')\n",
    "plt.plot(fpr, tpr, marker='.')\n",
    "plt.xlabel('False positive rate')\n",
    "plt.ylabel('True positive rate')\n",
    "plt.title('ROC curve')\n",
    "plt.show()\n"
   ]
  },
  {
   "cell_type": "code",
   "execution_count": 116,
   "id": "e816763c",
   "metadata": {},
   "outputs": [
    {
     "name": "stdout",
     "output_type": "stream",
     "text": [
      "roc_auc_dt_test: 0.796\n"
     ]
    },
    {
     "data": {
      "image/png": "[encoded data removed]",
      "text/plain": [
       "<Figure size 432x288 with 1 Axes>"
      ]
     },
     "metadata": {
      "needs_background": "light"
     },
     "output_type": "display_data"
    }
   ],
   "source": [
    "##dt_test data\n",
    "\n",
    "probs_dt_test = best_grid_dt.predict_proba(X_test)\n",
    "probs_dt_test = probs_dt_test[:, 1]\n",
    "from sklearn.metrics import roc_auc_score\n",
    "roc_auc_dt_test = roc_auc_score(y_test, probs_dt_test)\n",
    "print('roc_auc_dt_test: %.3f' % roc_auc_dt_test)\n",
    "from sklearn.metrics import roc_curve\n",
    "fpr, tpr, thresholds = roc_curve(y_test, probs_dt_test)  \n",
    "plt.plot([0, 1], [0, 1], linestyle='--')\n",
    "plt.plot(fpr, tpr, marker='.')\n",
    "plt.xlabel('False positive rate')\n",
    "plt.ylabel('True positive rate')\n",
    "plt.title('ROC curve')\n",
    "plt.show()\n"
   ]
  },
  {
   "cell_type": "code",
   "execution_count": null,
   "id": "244feaba",
   "metadata": {},
   "outputs": [],
   "source": []
  },
  {
   "cell_type": "code",
   "execution_count": 109,
   "id": "f26fb3ca",
   "metadata": {},
   "outputs": [],
   "source": [
    "from sklearn.metrics import classification_report,confusion_matrix"
   ]
  },
  {
   "cell_type": "code",
   "execution_count": 117,
   "id": "0469f8e7",
   "metadata": {
    "scrolled": true
   },
   "outputs": [
    {
     "name": "stdout",
     "output_type": "stream",
     "text": [
      "              precision    recall  f1-score   support\n",
      "\n",
      "           0       0.83      0.90      0.86      1471\n",
      "           1       0.71      0.58      0.64       629\n",
      "\n",
      "    accuracy                           0.80      2100\n",
      "   macro avg       0.77      0.74      0.75      2100\n",
      "weighted avg       0.80      0.80      0.80      2100\n",
      "\n"
     ]
    }
   ],
   "source": [
    "print(classification_report(y_train, ytrain_predict_dt))"
   ]
  },
  {
   "cell_type": "code",
   "execution_count": 118,
   "id": "b3446e68",
   "metadata": {
    "scrolled": true
   },
   "outputs": [
    {
     "data": {
      "text/html": [
       "<div>\n",
       "<style scoped>\n",
       "    .dataframe tbody tr th:only-of-type {\n",
       "        vertical-align: middle;\n",
       "    }\n",
       "\n",
       "    .dataframe tbody tr th {\n",
       "        vertical-align: top;\n",
       "    }\n",
       "\n",
       "    .dataframe thead th {\n",
       "        text-align: right;\n",
       "    }\n",
       "</style>\n",
       "<table border=\"1\" class=\"dataframe\">\n",
       "  <thead>\n",
       "    <tr style=\"text-align: right;\">\n",
       "      <th></th>\n",
       "      <th>precision</th>\n",
       "      <th>recall</th>\n",
       "      <th>f1-score</th>\n",
       "      <th>support</th>\n",
       "    </tr>\n",
       "  </thead>\n",
       "  <tbody>\n",
       "    <tr>\n",
       "      <th>0</th>\n",
       "      <td>0.834282</td>\n",
       "      <td>0.896669</td>\n",
       "      <td>0.864351</td>\n",
       "      <td>1471.000000</td>\n",
       "    </tr>\n",
       "    <tr>\n",
       "      <th>1</th>\n",
       "      <td>0.707129</td>\n",
       "      <td>0.583466</td>\n",
       "      <td>0.639373</td>\n",
       "      <td>629.000000</td>\n",
       "    </tr>\n",
       "    <tr>\n",
       "      <th>accuracy</th>\n",
       "      <td>0.802857</td>\n",
       "      <td>0.802857</td>\n",
       "      <td>0.802857</td>\n",
       "      <td>0.802857</td>\n",
       "    </tr>\n",
       "    <tr>\n",
       "      <th>macro avg</th>\n",
       "      <td>0.770706</td>\n",
       "      <td>0.740067</td>\n",
       "      <td>0.751862</td>\n",
       "      <td>2100.000000</td>\n",
       "    </tr>\n",
       "    <tr>\n",
       "      <th>weighted avg</th>\n",
       "      <td>0.796197</td>\n",
       "      <td>0.802857</td>\n",
       "      <td>0.796965</td>\n",
       "      <td>2100.000000</td>\n",
       "    </tr>\n",
       "  </tbody>\n",
       "</table>\n",
       "</div>"
      ],
      "text/plain": [
       "              precision    recall  f1-score      support\n",
       "0              0.834282  0.896669  0.864351  1471.000000\n",
       "1              0.707129  0.583466  0.639373   629.000000\n",
       "accuracy       0.802857  0.802857  0.802857     0.802857\n",
       "macro avg      0.770706  0.740067  0.751862  2100.000000\n",
       "weighted avg   0.796197  0.802857  0.796965  2100.000000"
      ]
     },
     "execution_count": 118,
     "metadata": {},
     "output_type": "execute_result"
    }
   ],
   "source": [
    "df_dt_train=pd.DataFrame(classification_report(y_train, ytrain_predict_dt,output_dict=True)).transpose()\n",
    "df_dt_train"
   ]
  },
  {
   "cell_type": "code",
   "execution_count": null,
   "id": "66fdf971",
   "metadata": {},
   "outputs": [],
   "source": []
  },
  {
   "cell_type": "code",
   "execution_count": 119,
   "id": "4bfb959a",
   "metadata": {},
   "outputs": [
    {
     "name": "stdout",
     "output_type": "stream",
     "text": [
      "              precision    recall  f1-score   support\n",
      "\n",
      "           0       0.78      0.90      0.83       605\n",
      "           1       0.69      0.48      0.57       295\n",
      "\n",
      "    accuracy                           0.76       900\n",
      "   macro avg       0.74      0.69      0.70       900\n",
      "weighted avg       0.75      0.76      0.75       900\n",
      "\n"
     ]
    }
   ],
   "source": [
    "print(classification_report(y_test, ytest_predict_dt))"
   ]
  },
  {
   "cell_type": "code",
   "execution_count": 120,
   "id": "e60da775",
   "metadata": {},
   "outputs": [
    {
     "data": {
      "text/html": [
       "<div>\n",
       "<style scoped>\n",
       "    .dataframe tbody tr th:only-of-type {\n",
       "        vertical-align: middle;\n",
       "    }\n",
       "\n",
       "    .dataframe tbody tr th {\n",
       "        vertical-align: top;\n",
       "    }\n",
       "\n",
       "    .dataframe thead th {\n",
       "        text-align: right;\n",
       "    }\n",
       "</style>\n",
       "<table border=\"1\" class=\"dataframe\">\n",
       "  <thead>\n",
       "    <tr style=\"text-align: right;\">\n",
       "      <th></th>\n",
       "      <th>precision</th>\n",
       "      <th>recall</th>\n",
       "      <th>f1-score</th>\n",
       "      <th>support</th>\n",
       "    </tr>\n",
       "  </thead>\n",
       "  <tbody>\n",
       "    <tr>\n",
       "      <th>0</th>\n",
       "      <td>0.779856</td>\n",
       "      <td>0.895868</td>\n",
       "      <td>0.833846</td>\n",
       "      <td>605.00</td>\n",
       "    </tr>\n",
       "    <tr>\n",
       "      <th>1</th>\n",
       "      <td>0.692683</td>\n",
       "      <td>0.481356</td>\n",
       "      <td>0.568000</td>\n",
       "      <td>295.00</td>\n",
       "    </tr>\n",
       "    <tr>\n",
       "      <th>accuracy</th>\n",
       "      <td>0.760000</td>\n",
       "      <td>0.760000</td>\n",
       "      <td>0.760000</td>\n",
       "      <td>0.76</td>\n",
       "    </tr>\n",
       "    <tr>\n",
       "      <th>macro avg</th>\n",
       "      <td>0.736270</td>\n",
       "      <td>0.688612</td>\n",
       "      <td>0.700923</td>\n",
       "      <td>900.00</td>\n",
       "    </tr>\n",
       "    <tr>\n",
       "      <th>weighted avg</th>\n",
       "      <td>0.751283</td>\n",
       "      <td>0.760000</td>\n",
       "      <td>0.746708</td>\n",
       "      <td>900.00</td>\n",
       "    </tr>\n",
       "  </tbody>\n",
       "</table>\n",
       "</div>"
      ],
      "text/plain": [
       "              precision    recall  f1-score  support\n",
       "0              0.779856  0.895868  0.833846   605.00\n",
       "1              0.692683  0.481356  0.568000   295.00\n",
       "accuracy       0.760000  0.760000  0.760000     0.76\n",
       "macro avg      0.736270  0.688612  0.700923   900.00\n",
       "weighted avg   0.751283  0.760000  0.746708   900.00"
      ]
     },
     "execution_count": 120,
     "metadata": {},
     "output_type": "execute_result"
    }
   ],
   "source": [
    "df_dt_test=pd.DataFrame(classification_report(y_test, ytest_predict_dt,output_dict=True)).transpose()\n",
    "df_dt_test"
   ]
  },
  {
   "cell_type": "code",
   "execution_count": null,
   "id": "3819232b",
   "metadata": {},
   "outputs": [],
   "source": []
  },
  {
   "cell_type": "code",
   "execution_count": null,
   "id": "75ce246c",
   "metadata": {},
   "outputs": [],
   "source": []
  },
  {
   "cell_type": "markdown",
   "id": "cdb68d62",
   "metadata": {},
   "source": [
    "## 2) RF model:"
   ]
  },
  {
   "cell_type": "code",
   "execution_count": 55,
   "id": "cffb0038",
   "metadata": {},
   "outputs": [
    {
     "data": {
      "text/plain": [
       "0.78"
      ]
     },
     "execution_count": 55,
     "metadata": {},
     "output_type": "execute_result"
    }
   ],
   "source": [
    "acc_rf_train=best_grid_rf.score(X_train,y_train)\n",
    "acc_rf_train"
   ]
  },
  {
   "cell_type": "code",
   "execution_count": 56,
   "id": "4874c61a",
   "metadata": {
    "scrolled": true
   },
   "outputs": [
    {
     "data": {
      "text/plain": [
       "0.7466666666666667"
      ]
     },
     "execution_count": 56,
     "metadata": {},
     "output_type": "execute_result"
    }
   ],
   "source": [
    "acc_rf_test=best_grid_rf.score(X_test,y_test)\n",
    "acc_rf_test"
   ]
  },
  {
   "cell_type": "code",
   "execution_count": 57,
   "id": "5642a759",
   "metadata": {},
   "outputs": [],
   "source": [
    "ytrain_predict_rf = best_grid_rf.predict(X_train)\n",
    "ytest_predict_rf = best_grid_rf.predict(X_test)"
   ]
  },
  {
   "cell_type": "code",
   "execution_count": 59,
   "id": "892828f2",
   "metadata": {},
   "outputs": [
    {
     "data": {
      "text/html": [
       "<div>\n",
       "<style scoped>\n",
       "    .dataframe tbody tr th:only-of-type {\n",
       "        vertical-align: middle;\n",
       "    }\n",
       "\n",
       "    .dataframe tbody tr th {\n",
       "        vertical-align: top;\n",
       "    }\n",
       "\n",
       "    .dataframe thead th {\n",
       "        text-align: right;\n",
       "    }\n",
       "</style>\n",
       "<table border=\"1\" class=\"dataframe\">\n",
       "  <thead>\n",
       "    <tr style=\"text-align: right;\">\n",
       "      <th></th>\n",
       "      <th>0</th>\n",
       "      <th>1</th>\n",
       "    </tr>\n",
       "  </thead>\n",
       "  <tbody>\n",
       "    <tr>\n",
       "      <th>0</th>\n",
       "      <td>0.756064</td>\n",
       "      <td>0.243936</td>\n",
       "    </tr>\n",
       "    <tr>\n",
       "      <th>1</th>\n",
       "      <td>0.572361</td>\n",
       "      <td>0.427639</td>\n",
       "    </tr>\n",
       "    <tr>\n",
       "      <th>2</th>\n",
       "      <td>0.552778</td>\n",
       "      <td>0.447222</td>\n",
       "    </tr>\n",
       "    <tr>\n",
       "      <th>3</th>\n",
       "      <td>0.296836</td>\n",
       "      <td>0.703164</td>\n",
       "    </tr>\n",
       "    <tr>\n",
       "      <th>4</th>\n",
       "      <td>0.922505</td>\n",
       "      <td>0.077495</td>\n",
       "    </tr>\n",
       "  </tbody>\n",
       "</table>\n",
       "</div>"
      ],
      "text/plain": [
       "          0         1\n",
       "0  0.756064  0.243936\n",
       "1  0.572361  0.427639\n",
       "2  0.552778  0.447222\n",
       "3  0.296836  0.703164\n",
       "4  0.922505  0.077495"
      ]
     },
     "execution_count": 59,
     "metadata": {},
     "output_type": "execute_result"
    }
   ],
   "source": [
    "ytest_predict_prob_rf=best_grid_rf.predict_proba(X_test)\n",
    "ytest_predict_prob_rf\n",
    "pd.DataFrame(ytest_predict_prob_rf).head()"
   ]
  },
  {
   "cell_type": "code",
   "execution_count": 60,
   "id": "db533493",
   "metadata": {
    "scrolled": true
   },
   "outputs": [
    {
     "data": {
      "text/plain": [
       "array([[1348,  123],\n",
       "       [ 339,  290]], dtype=int64)"
      ]
     },
     "execution_count": 60,
     "metadata": {},
     "output_type": "execute_result"
    }
   ],
   "source": [
    "confusion_matrix(y_train, ytrain_predict_rf)"
   ]
  },
  {
   "cell_type": "code",
   "execution_count": 61,
   "id": "d9dda6b4",
   "metadata": {},
   "outputs": [
    {
     "data": {
      "text/plain": [
       "array([[566,  39],\n",
       "       [189, 106]], dtype=int64)"
      ]
     },
     "execution_count": 61,
     "metadata": {},
     "output_type": "execute_result"
    }
   ],
   "source": [
    "confusion_matrix(y_test, ytest_predict_rf)"
   ]
  },
  {
   "cell_type": "code",
   "execution_count": 62,
   "id": "2b24a11c",
   "metadata": {},
   "outputs": [
    {
     "name": "stdout",
     "output_type": "stream",
     "text": [
      "roc_auc_rf_train: 0.821\n"
     ]
    },
    {
     "data": {
      "image/png": "[encoded data removed]",
      "text/plain": [
       "<Figure size 432x288 with 1 Axes>"
      ]
     },
     "metadata": {
      "needs_background": "light"
     },
     "output_type": "display_data"
    }
   ],
   "source": [
    "##rf_train data\n",
    "\n",
    "probs_rf_train = best_grid_rf.predict_proba(X_train)\n",
    "probs_rf_train = probs_rf_train[:, 1]\n",
    "from sklearn.metrics import roc_auc_score\n",
    "roc_auc_rf_train = roc_auc_score(y_train, probs_rf_train)\n",
    "print('roc_auc_rf_train: %.3f' % roc_auc_rf_train)\n",
    "from sklearn.metrics import roc_curve\n",
    "fpr, tpr, thresholds = roc_curve(y_train, probs_rf_train)  \n",
    "plt.plot([0, 1], [0, 1], linestyle='--')\n",
    "plt.plot(fpr, tpr, marker='.')\n",
    "plt.xlabel('False positive rate')\n",
    "plt.ylabel('True positive rate')\n",
    "plt.title('ROC curve')\n",
    "plt.show()\n"
   ]
  },
  {
   "cell_type": "code",
   "execution_count": 63,
   "id": "4db55617",
   "metadata": {},
   "outputs": [
    {
     "name": "stdout",
     "output_type": "stream",
     "text": [
      "roc_auc_rf_test: 0.808\n"
     ]
    },
    {
     "data": {
      "image/png": "[encoded data removed]",
      "text/plain": [
       "<Figure size 432x288 with 1 Axes>"
      ]
     },
     "metadata": {
      "needs_background": "light"
     },
     "output_type": "display_data"
    }
   ],
   "source": [
    "##rf_test data\n",
    "\n",
    "probs_rf_test = best_grid_rf.predict_proba(X_test)\n",
    "probs_rf_test = probs_rf_test[:, 1]\n",
    "from sklearn.metrics import roc_auc_score\n",
    "roc_auc_rf_test = roc_auc_score(y_test, probs_rf_test)\n",
    "print('roc_auc_rf_test: %.3f' % roc_auc_rf_test)\n",
    "from sklearn.metrics import roc_curve\n",
    "fpr, tpr, thresholds = roc_curve(y_test, probs_rf_test)  \n",
    "plt.plot([0, 1], [0, 1], linestyle='--')\n",
    "plt.plot(fpr, tpr, marker='.')\n",
    "plt.xlabel('False positive rate')\n",
    "plt.ylabel('True positive rate')\n",
    "plt.title('ROC curve')\n",
    "plt.show()\n"
   ]
  },
  {
   "cell_type": "code",
   "execution_count": 65,
   "id": "d0d42e95",
   "metadata": {},
   "outputs": [
    {
     "name": "stdout",
     "output_type": "stream",
     "text": [
      "              precision    recall  f1-score   support\n",
      "\n",
      "           0       0.80      0.92      0.85      1471\n",
      "           1       0.70      0.46      0.56       629\n",
      "\n",
      "    accuracy                           0.78      2100\n",
      "   macro avg       0.75      0.69      0.71      2100\n",
      "weighted avg       0.77      0.78      0.76      2100\n",
      "\n"
     ]
    }
   ],
   "source": [
    "print(classification_report(y_train, ytrain_predict_rf))"
   ]
  },
  {
   "cell_type": "code",
   "execution_count": 66,
   "id": "9b053e29",
   "metadata": {},
   "outputs": [
    {
     "data": {
      "text/html": [
       "<div>\n",
       "<style scoped>\n",
       "    .dataframe tbody tr th:only-of-type {\n",
       "        vertical-align: middle;\n",
       "    }\n",
       "\n",
       "    .dataframe tbody tr th {\n",
       "        vertical-align: top;\n",
       "    }\n",
       "\n",
       "    .dataframe thead th {\n",
       "        text-align: right;\n",
       "    }\n",
       "</style>\n",
       "<table border=\"1\" class=\"dataframe\">\n",
       "  <thead>\n",
       "    <tr style=\"text-align: right;\">\n",
       "      <th></th>\n",
       "      <th>precision</th>\n",
       "      <th>recall</th>\n",
       "      <th>f1-score</th>\n",
       "      <th>support</th>\n",
       "    </tr>\n",
       "  </thead>\n",
       "  <tbody>\n",
       "    <tr>\n",
       "      <th>0</th>\n",
       "      <td>0.799052</td>\n",
       "      <td>0.916383</td>\n",
       "      <td>0.853705</td>\n",
       "      <td>1471.00</td>\n",
       "    </tr>\n",
       "    <tr>\n",
       "      <th>1</th>\n",
       "      <td>0.702179</td>\n",
       "      <td>0.461049</td>\n",
       "      <td>0.556622</td>\n",
       "      <td>629.00</td>\n",
       "    </tr>\n",
       "    <tr>\n",
       "      <th>accuracy</th>\n",
       "      <td>0.780000</td>\n",
       "      <td>0.780000</td>\n",
       "      <td>0.780000</td>\n",
       "      <td>0.78</td>\n",
       "    </tr>\n",
       "    <tr>\n",
       "      <th>macro avg</th>\n",
       "      <td>0.750615</td>\n",
       "      <td>0.688716</td>\n",
       "      <td>0.705163</td>\n",
       "      <td>2100.00</td>\n",
       "    </tr>\n",
       "    <tr>\n",
       "      <th>weighted avg</th>\n",
       "      <td>0.770036</td>\n",
       "      <td>0.780000</td>\n",
       "      <td>0.764721</td>\n",
       "      <td>2100.00</td>\n",
       "    </tr>\n",
       "  </tbody>\n",
       "</table>\n",
       "</div>"
      ],
      "text/plain": [
       "              precision    recall  f1-score  support\n",
       "0              0.799052  0.916383  0.853705  1471.00\n",
       "1              0.702179  0.461049  0.556622   629.00\n",
       "accuracy       0.780000  0.780000  0.780000     0.78\n",
       "macro avg      0.750615  0.688716  0.705163  2100.00\n",
       "weighted avg   0.770036  0.780000  0.764721  2100.00"
      ]
     },
     "execution_count": 66,
     "metadata": {},
     "output_type": "execute_result"
    }
   ],
   "source": [
    "df_rf_train=pd.DataFrame(classification_report(y_train, ytrain_predict_rf,output_dict=True)).transpose()\n",
    "df_rf_train"
   ]
  },
  {
   "cell_type": "code",
   "execution_count": 67,
   "id": "6f5fe87c",
   "metadata": {},
   "outputs": [
    {
     "name": "stdout",
     "output_type": "stream",
     "text": [
      "              precision    recall  f1-score   support\n",
      "\n",
      "           0       0.75      0.94      0.83       605\n",
      "           1       0.73      0.36      0.48       295\n",
      "\n",
      "    accuracy                           0.75       900\n",
      "   macro avg       0.74      0.65      0.66       900\n",
      "weighted avg       0.74      0.75      0.72       900\n",
      "\n"
     ]
    }
   ],
   "source": [
    "print(classification_report(y_test, ytest_predict_rf))"
   ]
  },
  {
   "cell_type": "code",
   "execution_count": 68,
   "id": "61f59d55",
   "metadata": {},
   "outputs": [
    {
     "data": {
      "text/html": [
       "<div>\n",
       "<style scoped>\n",
       "    .dataframe tbody tr th:only-of-type {\n",
       "        vertical-align: middle;\n",
       "    }\n",
       "\n",
       "    .dataframe tbody tr th {\n",
       "        vertical-align: top;\n",
       "    }\n",
       "\n",
       "    .dataframe thead th {\n",
       "        text-align: right;\n",
       "    }\n",
       "</style>\n",
       "<table border=\"1\" class=\"dataframe\">\n",
       "  <thead>\n",
       "    <tr style=\"text-align: right;\">\n",
       "      <th></th>\n",
       "      <th>precision</th>\n",
       "      <th>recall</th>\n",
       "      <th>f1-score</th>\n",
       "      <th>support</th>\n",
       "    </tr>\n",
       "  </thead>\n",
       "  <tbody>\n",
       "    <tr>\n",
       "      <th>0</th>\n",
       "      <td>0.749669</td>\n",
       "      <td>0.935537</td>\n",
       "      <td>0.832353</td>\n",
       "      <td>605.000000</td>\n",
       "    </tr>\n",
       "    <tr>\n",
       "      <th>1</th>\n",
       "      <td>0.731034</td>\n",
       "      <td>0.359322</td>\n",
       "      <td>0.481818</td>\n",
       "      <td>295.000000</td>\n",
       "    </tr>\n",
       "    <tr>\n",
       "      <th>accuracy</th>\n",
       "      <td>0.746667</td>\n",
       "      <td>0.746667</td>\n",
       "      <td>0.746667</td>\n",
       "      <td>0.746667</td>\n",
       "    </tr>\n",
       "    <tr>\n",
       "      <th>macro avg</th>\n",
       "      <td>0.740352</td>\n",
       "      <td>0.647430</td>\n",
       "      <td>0.657086</td>\n",
       "      <td>900.000000</td>\n",
       "    </tr>\n",
       "    <tr>\n",
       "      <th>weighted avg</th>\n",
       "      <td>0.743561</td>\n",
       "      <td>0.746667</td>\n",
       "      <td>0.717455</td>\n",
       "      <td>900.000000</td>\n",
       "    </tr>\n",
       "  </tbody>\n",
       "</table>\n",
       "</div>"
      ],
      "text/plain": [
       "              precision    recall  f1-score     support\n",
       "0              0.749669  0.935537  0.832353  605.000000\n",
       "1              0.731034  0.359322  0.481818  295.000000\n",
       "accuracy       0.746667  0.746667  0.746667    0.746667\n",
       "macro avg      0.740352  0.647430  0.657086  900.000000\n",
       "weighted avg   0.743561  0.746667  0.717455  900.000000"
      ]
     },
     "execution_count": 68,
     "metadata": {},
     "output_type": "execute_result"
    }
   ],
   "source": [
    "df_rf_test=pd.DataFrame(classification_report(y_test, ytest_predict_rf,output_dict=True)).transpose()\n",
    "df_rf_test"
   ]
  },
  {
   "cell_type": "code",
   "execution_count": null,
   "id": "4029987d",
   "metadata": {},
   "outputs": [],
   "source": []
  },
  {
   "cell_type": "code",
   "execution_count": null,
   "id": "258bb17b",
   "metadata": {},
   "outputs": [],
   "source": []
  },
  {
   "cell_type": "code",
   "execution_count": null,
   "id": "31359220",
   "metadata": {},
   "outputs": [],
   "source": []
  },
  {
   "cell_type": "code",
   "execution_count": null,
   "id": "1d78d307",
   "metadata": {},
   "outputs": [],
   "source": []
  },
  {
   "cell_type": "code",
   "execution_count": null,
   "id": "d52ae4d3",
   "metadata": {},
   "outputs": [],
   "source": []
  },
  {
   "cell_type": "markdown",
   "id": "f12efa73",
   "metadata": {},
   "source": [
    "## 3) ANN model:"
   ]
  },
  {
   "cell_type": "code",
   "execution_count": 69,
   "id": "393265ff",
   "metadata": {},
   "outputs": [
    {
     "data": {
      "text/plain": [
       "0.7847619047619048"
      ]
     },
     "execution_count": 69,
     "metadata": {},
     "output_type": "execute_result"
    }
   ],
   "source": [
    "acc_ann_train=best_grid_ann.score(X1_train,y1_train)\n",
    "acc_ann_train"
   ]
  },
  {
   "cell_type": "code",
   "execution_count": 70,
   "id": "4911615c",
   "metadata": {},
   "outputs": [
    {
     "data": {
      "text/plain": [
       "0.76"
      ]
     },
     "execution_count": 70,
     "metadata": {},
     "output_type": "execute_result"
    }
   ],
   "source": [
    "acc_ann_test=best_grid_ann.score(X1_test,y1_test)\n",
    "acc_ann_test"
   ]
  },
  {
   "cell_type": "code",
   "execution_count": 71,
   "id": "08760812",
   "metadata": {},
   "outputs": [],
   "source": [
    "ytrain_predict_ann = best_grid_ann.predict(X1_train)\n",
    "ytest_predict_ann = best_grid_ann.predict(X1_test)"
   ]
  },
  {
   "cell_type": "code",
   "execution_count": 72,
   "id": "3e2e09a3",
   "metadata": {},
   "outputs": [
    {
     "data": {
      "text/html": [
       "<div>\n",
       "<style scoped>\n",
       "    .dataframe tbody tr th:only-of-type {\n",
       "        vertical-align: middle;\n",
       "    }\n",
       "\n",
       "    .dataframe tbody tr th {\n",
       "        vertical-align: top;\n",
       "    }\n",
       "\n",
       "    .dataframe thead th {\n",
       "        text-align: right;\n",
       "    }\n",
       "</style>\n",
       "<table border=\"1\" class=\"dataframe\">\n",
       "  <thead>\n",
       "    <tr style=\"text-align: right;\">\n",
       "      <th></th>\n",
       "      <th>0</th>\n",
       "      <th>1</th>\n",
       "    </tr>\n",
       "  </thead>\n",
       "  <tbody>\n",
       "    <tr>\n",
       "      <th>0</th>\n",
       "      <td>0.000186</td>\n",
       "      <td>0.999814</td>\n",
       "    </tr>\n",
       "    <tr>\n",
       "      <th>1</th>\n",
       "      <td>0.096462</td>\n",
       "      <td>0.903538</td>\n",
       "    </tr>\n",
       "    <tr>\n",
       "      <th>2</th>\n",
       "      <td>0.987302</td>\n",
       "      <td>0.012698</td>\n",
       "    </tr>\n",
       "    <tr>\n",
       "      <th>3</th>\n",
       "      <td>0.000042</td>\n",
       "      <td>0.999958</td>\n",
       "    </tr>\n",
       "    <tr>\n",
       "      <th>4</th>\n",
       "      <td>0.582070</td>\n",
       "      <td>0.417930</td>\n",
       "    </tr>\n",
       "  </tbody>\n",
       "</table>\n",
       "</div>"
      ],
      "text/plain": [
       "          0         1\n",
       "0  0.000186  0.999814\n",
       "1  0.096462  0.903538\n",
       "2  0.987302  0.012698\n",
       "3  0.000042  0.999958\n",
       "4  0.582070  0.417930"
      ]
     },
     "execution_count": 72,
     "metadata": {},
     "output_type": "execute_result"
    }
   ],
   "source": [
    "ytest_predict_prob_ann=best_grid_ann.predict_proba(X_test)\n",
    "ytest_predict_prob_ann\n",
    "pd.DataFrame(ytest_predict_prob_ann).head()"
   ]
  },
  {
   "cell_type": "code",
   "execution_count": 73,
   "id": "876d9cd5",
   "metadata": {},
   "outputs": [
    {
     "data": {
      "text/plain": [
       "array([[1315,  156],\n",
       "       [ 296,  333]], dtype=int64)"
      ]
     },
     "execution_count": 73,
     "metadata": {},
     "output_type": "execute_result"
    }
   ],
   "source": [
    "confusion_matrix(y1_train, ytrain_predict_ann)"
   ]
  },
  {
   "cell_type": "code",
   "execution_count": 74,
   "id": "d45dcc74",
   "metadata": {},
   "outputs": [
    {
     "data": {
      "text/plain": [
       "array([[550,  55],\n",
       "       [161, 134]], dtype=int64)"
      ]
     },
     "execution_count": 74,
     "metadata": {},
     "output_type": "execute_result"
    }
   ],
   "source": [
    "confusion_matrix(y1_test, ytest_predict_ann)"
   ]
  },
  {
   "cell_type": "code",
   "execution_count": 76,
   "id": "301134be",
   "metadata": {},
   "outputs": [
    {
     "name": "stdout",
     "output_type": "stream",
     "text": [
      "roc_auc_ann_train: 0.837\n"
     ]
    },
    {
     "data": {
      "image/png": "[encoded data removed]",
      "text/plain": [
       "<Figure size 432x288 with 1 Axes>"
      ]
     },
     "metadata": {
      "needs_background": "light"
     },
     "output_type": "display_data"
    }
   ],
   "source": [
    "##ann_train data\n",
    "\n",
    "probs_ann_train = best_grid_ann.predict_proba(X1_train)\n",
    "probs_ann_train = probs_ann_train[:, 1]\n",
    "from sklearn.metrics import roc_auc_score\n",
    "roc_auc_ann_train = roc_auc_score(y1_train, probs_ann_train)\n",
    "print('roc_auc_ann_train: %.3f' % roc_auc_ann_train)\n",
    "from sklearn.metrics import roc_curve\n",
    "fpr, tpr, thresholds = roc_curve(y1_train, probs_ann_train)  \n",
    "plt.plot([0, 1], [0, 1], linestyle='--')\n",
    "plt.plot(fpr, tpr, marker='.')\n",
    "plt.xlabel('False positive rate')\n",
    "plt.ylabel('True positive rate')\n",
    "plt.title('ROC curve')\n",
    "plt.show()\n"
   ]
  },
  {
   "cell_type": "code",
   "execution_count": 78,
   "id": "912c7263",
   "metadata": {},
   "outputs": [
    {
     "name": "stdout",
     "output_type": "stream",
     "text": [
      "roc_auc_ann_test: 0.809\n"
     ]
    },
    {
     "data": {
      "image/png": "[encoded data removed]",
      "text/plain": [
       "<Figure size 432x288 with 1 Axes>"
      ]
     },
     "metadata": {
      "needs_background": "light"
     },
     "output_type": "display_data"
    }
   ],
   "source": [
    "##ann_test data\n",
    "\n",
    "probs_ann_test = best_grid_ann.predict_proba(X1_test)\n",
    "probs_ann_test = probs_ann_test[:, 1]\n",
    "from sklearn.metrics import roc_auc_score\n",
    "roc_auc_ann_test = roc_auc_score(y1_test, probs_ann_test)\n",
    "print('roc_auc_ann_test: %.3f' % roc_auc_ann_test)\n",
    "from sklearn.metrics import roc_curve\n",
    "fpr, tpr, thresholds = roc_curve(y1_test, probs_ann_test)  \n",
    "plt.plot([0, 1], [0, 1], linestyle='--')\n",
    "plt.plot(fpr, tpr, marker='.')\n",
    "plt.xlabel('False positive rate')\n",
    "plt.ylabel('True positive rate')\n",
    "plt.title('ROC curve')\n",
    "plt.show()\n"
   ]
  },
  {
   "cell_type": "code",
   "execution_count": 79,
   "id": "e57b5b6e",
   "metadata": {
    "scrolled": true
   },
   "outputs": [
    {
     "name": "stdout",
     "output_type": "stream",
     "text": [
      "              precision    recall  f1-score   support\n",
      "\n",
      "           0       0.82      0.89      0.85      1471\n",
      "           1       0.68      0.53      0.60       629\n",
      "\n",
      "    accuracy                           0.78      2100\n",
      "   macro avg       0.75      0.71      0.72      2100\n",
      "weighted avg       0.78      0.78      0.78      2100\n",
      "\n"
     ]
    }
   ],
   "source": [
    "print(classification_report(y1_train, ytrain_predict_ann))"
   ]
  },
  {
   "cell_type": "code",
   "execution_count": 80,
   "id": "dd76bae5",
   "metadata": {},
   "outputs": [
    {
     "data": {
      "text/html": [
       "<div>\n",
       "<style scoped>\n",
       "    .dataframe tbody tr th:only-of-type {\n",
       "        vertical-align: middle;\n",
       "    }\n",
       "\n",
       "    .dataframe tbody tr th {\n",
       "        vertical-align: top;\n",
       "    }\n",
       "\n",
       "    .dataframe thead th {\n",
       "        text-align: right;\n",
       "    }\n",
       "</style>\n",
       "<table border=\"1\" class=\"dataframe\">\n",
       "  <thead>\n",
       "    <tr style=\"text-align: right;\">\n",
       "      <th></th>\n",
       "      <th>precision</th>\n",
       "      <th>recall</th>\n",
       "      <th>f1-score</th>\n",
       "      <th>support</th>\n",
       "    </tr>\n",
       "  </thead>\n",
       "  <tbody>\n",
       "    <tr>\n",
       "      <th>0</th>\n",
       "      <td>0.816263</td>\n",
       "      <td>0.893950</td>\n",
       "      <td>0.853342</td>\n",
       "      <td>1471.000000</td>\n",
       "    </tr>\n",
       "    <tr>\n",
       "      <th>1</th>\n",
       "      <td>0.680982</td>\n",
       "      <td>0.529412</td>\n",
       "      <td>0.595707</td>\n",
       "      <td>629.000000</td>\n",
       "    </tr>\n",
       "    <tr>\n",
       "      <th>accuracy</th>\n",
       "      <td>0.784762</td>\n",
       "      <td>0.784762</td>\n",
       "      <td>0.784762</td>\n",
       "      <td>0.784762</td>\n",
       "    </tr>\n",
       "    <tr>\n",
       "      <th>macro avg</th>\n",
       "      <td>0.748622</td>\n",
       "      <td>0.711681</td>\n",
       "      <td>0.724524</td>\n",
       "      <td>2100.000000</td>\n",
       "    </tr>\n",
       "    <tr>\n",
       "      <th>weighted avg</th>\n",
       "      <td>0.775743</td>\n",
       "      <td>0.784762</td>\n",
       "      <td>0.776174</td>\n",
       "      <td>2100.000000</td>\n",
       "    </tr>\n",
       "  </tbody>\n",
       "</table>\n",
       "</div>"
      ],
      "text/plain": [
       "              precision    recall  f1-score      support\n",
       "0              0.816263  0.893950  0.853342  1471.000000\n",
       "1              0.680982  0.529412  0.595707   629.000000\n",
       "accuracy       0.784762  0.784762  0.784762     0.784762\n",
       "macro avg      0.748622  0.711681  0.724524  2100.000000\n",
       "weighted avg   0.775743  0.784762  0.776174  2100.000000"
      ]
     },
     "execution_count": 80,
     "metadata": {},
     "output_type": "execute_result"
    }
   ],
   "source": [
    "df_ann_train=pd.DataFrame(classification_report(y1_train, ytrain_predict_ann,output_dict=True)).transpose()\n",
    "df_ann_train"
   ]
  },
  {
   "cell_type": "code",
   "execution_count": 81,
   "id": "04a09652",
   "metadata": {},
   "outputs": [
    {
     "name": "stdout",
     "output_type": "stream",
     "text": [
      "              precision    recall  f1-score   support\n",
      "\n",
      "           0       0.77      0.91      0.84       605\n",
      "           1       0.71      0.45      0.55       295\n",
      "\n",
      "    accuracy                           0.76       900\n",
      "   macro avg       0.74      0.68      0.69       900\n",
      "weighted avg       0.75      0.76      0.74       900\n",
      "\n"
     ]
    }
   ],
   "source": [
    "print(classification_report(y1_test, ytest_predict_ann))"
   ]
  },
  {
   "cell_type": "code",
   "execution_count": 82,
   "id": "16384710",
   "metadata": {},
   "outputs": [
    {
     "data": {
      "text/html": [
       "<div>\n",
       "<style scoped>\n",
       "    .dataframe tbody tr th:only-of-type {\n",
       "        vertical-align: middle;\n",
       "    }\n",
       "\n",
       "    .dataframe tbody tr th {\n",
       "        vertical-align: top;\n",
       "    }\n",
       "\n",
       "    .dataframe thead th {\n",
       "        text-align: right;\n",
       "    }\n",
       "</style>\n",
       "<table border=\"1\" class=\"dataframe\">\n",
       "  <thead>\n",
       "    <tr style=\"text-align: right;\">\n",
       "      <th></th>\n",
       "      <th>precision</th>\n",
       "      <th>recall</th>\n",
       "      <th>f1-score</th>\n",
       "      <th>support</th>\n",
       "    </tr>\n",
       "  </thead>\n",
       "  <tbody>\n",
       "    <tr>\n",
       "      <th>0</th>\n",
       "      <td>0.773558</td>\n",
       "      <td>0.909091</td>\n",
       "      <td>0.835866</td>\n",
       "      <td>605.00</td>\n",
       "    </tr>\n",
       "    <tr>\n",
       "      <th>1</th>\n",
       "      <td>0.708995</td>\n",
       "      <td>0.454237</td>\n",
       "      <td>0.553719</td>\n",
       "      <td>295.00</td>\n",
       "    </tr>\n",
       "    <tr>\n",
       "      <th>accuracy</th>\n",
       "      <td>0.760000</td>\n",
       "      <td>0.760000</td>\n",
       "      <td>0.760000</td>\n",
       "      <td>0.76</td>\n",
       "    </tr>\n",
       "    <tr>\n",
       "      <th>macro avg</th>\n",
       "      <td>0.741277</td>\n",
       "      <td>0.681664</td>\n",
       "      <td>0.694793</td>\n",
       "      <td>900.00</td>\n",
       "    </tr>\n",
       "    <tr>\n",
       "      <th>weighted avg</th>\n",
       "      <td>0.752396</td>\n",
       "      <td>0.760000</td>\n",
       "      <td>0.743385</td>\n",
       "      <td>900.00</td>\n",
       "    </tr>\n",
       "  </tbody>\n",
       "</table>\n",
       "</div>"
      ],
      "text/plain": [
       "              precision    recall  f1-score  support\n",
       "0              0.773558  0.909091  0.835866   605.00\n",
       "1              0.708995  0.454237  0.553719   295.00\n",
       "accuracy       0.760000  0.760000  0.760000     0.76\n",
       "macro avg      0.741277  0.681664  0.694793   900.00\n",
       "weighted avg   0.752396  0.760000  0.743385   900.00"
      ]
     },
     "execution_count": 82,
     "metadata": {},
     "output_type": "execute_result"
    }
   ],
   "source": [
    "df_ann_test=pd.DataFrame(classification_report(y1_test, ytest_predict_ann,output_dict=True)).transpose()\n",
    "df_ann_test"
   ]
  },
  {
   "cell_type": "code",
   "execution_count": null,
   "id": "63ac863a",
   "metadata": {},
   "outputs": [],
   "source": []
  },
  {
   "cell_type": "markdown",
   "id": "f4f6f7de",
   "metadata": {},
   "source": [
    "\n",
    "## 2.4 Final Model: Compare all the models and write an inference which model is best/optimized."
   ]
  },
  {
   "cell_type": "markdown",
   "id": "1452e6e8",
   "metadata": {},
   "source": [
    "2.4 Final Model - Compare all models on the basis of the performance metrics in a structured tabular manner (2.5 pts). \\  Describe on which model is best/optimized (1.5 pts ).\\\n",
    "A table containing all the values of accuracies, precision, recall, auc_roc_score, f1 score. \\\n",
    "Comparison between the different models(final) on the basis of above table values.\\\n",
    "After comparison which model suits the best for the problem in hand on the basis of different measures.\\\n",
    "Comment on the final model.\\\n",
    "4"
   ]
  },
  {
   "cell_type": "code",
   "execution_count": 121,
   "id": "9960de3b",
   "metadata": {},
   "outputs": [
    {
     "data": {
      "text/html": [
       "<div>\n",
       "<style scoped>\n",
       "    .dataframe tbody tr th:only-of-type {\n",
       "        vertical-align: middle;\n",
       "    }\n",
       "\n",
       "    .dataframe tbody tr th {\n",
       "        vertical-align: top;\n",
       "    }\n",
       "\n",
       "    .dataframe thead th {\n",
       "        text-align: right;\n",
       "    }\n",
       "</style>\n",
       "<table border=\"1\" class=\"dataframe\">\n",
       "  <thead>\n",
       "    <tr style=\"text-align: right;\">\n",
       "      <th></th>\n",
       "      <th>Accuracy</th>\n",
       "      <th>AUC</th>\n",
       "      <th>Precision</th>\n",
       "      <th>Recall</th>\n",
       "      <th>F1 Score</th>\n",
       "    </tr>\n",
       "  </thead>\n",
       "  <tbody>\n",
       "    <tr>\n",
       "      <th>CART Train</th>\n",
       "      <td>0.80</td>\n",
       "      <td>0.85</td>\n",
       "      <td>0.71</td>\n",
       "      <td>0.58</td>\n",
       "      <td>0.64</td>\n",
       "    </tr>\n",
       "    <tr>\n",
       "      <th>CART Test</th>\n",
       "      <td>0.76</td>\n",
       "      <td>0.80</td>\n",
       "      <td>0.69</td>\n",
       "      <td>0.48</td>\n",
       "      <td>0.57</td>\n",
       "    </tr>\n",
       "    <tr>\n",
       "      <th>Random Forest Train</th>\n",
       "      <td>0.78</td>\n",
       "      <td>0.82</td>\n",
       "      <td>0.70</td>\n",
       "      <td>0.46</td>\n",
       "      <td>0.56</td>\n",
       "    </tr>\n",
       "    <tr>\n",
       "      <th>Random Forest Test</th>\n",
       "      <td>0.75</td>\n",
       "      <td>0.81</td>\n",
       "      <td>0.73</td>\n",
       "      <td>0.36</td>\n",
       "      <td>0.48</td>\n",
       "    </tr>\n",
       "    <tr>\n",
       "      <th>Neural Network Train</th>\n",
       "      <td>0.78</td>\n",
       "      <td>0.84</td>\n",
       "      <td>0.68</td>\n",
       "      <td>0.53</td>\n",
       "      <td>0.60</td>\n",
       "    </tr>\n",
       "    <tr>\n",
       "      <th>Neural Network Test</th>\n",
       "      <td>0.76</td>\n",
       "      <td>0.84</td>\n",
       "      <td>0.71</td>\n",
       "      <td>0.45</td>\n",
       "      <td>0.55</td>\n",
       "    </tr>\n",
       "  </tbody>\n",
       "</table>\n",
       "</div>"
      ],
      "text/plain": [
       "                      Accuracy   AUC  Precision  Recall  F1 Score\n",
       "CART Train                0.80  0.85       0.71    0.58      0.64\n",
       "CART Test                 0.76  0.80       0.69    0.48      0.57\n",
       "Random Forest Train       0.78  0.82       0.70    0.46      0.56\n",
       "Random Forest Test        0.75  0.81       0.73    0.36      0.48\n",
       "Neural Network Train      0.78  0.84       0.68    0.53      0.60\n",
       "Neural Network Test       0.76  0.84       0.71    0.45      0.55"
      ]
     },
     "execution_count": 121,
     "metadata": {},
     "output_type": "execute_result"
    }
   ],
   "source": [
    "index=['Accuracy', 'AUC', 'Precision','Recall','F1 Score']\n",
    "data = pd.DataFrame({'CART Train':[acc_dt_train, roc_auc_dt_train, df_dt_train.iloc[1,0], df_dt_train.iloc[1,1], df_dt_train.iloc[1,2]],\n",
    "                     'CART Test':[acc_dt_test, roc_auc_dt_test, df_dt_test.iloc[1,0], df_dt_test.iloc[1,1], df_dt_test.iloc[1,2]],\n",
    "                    'Random Forest Train':[acc_rf_train, roc_auc_rf_train, df_rf_train.iloc[1,0], df_rf_train.iloc[1,1], df_rf_train.iloc[1,2]],\n",
    "        'Random Forest Test':[acc_rf_test, roc_auc_rf_test, df_rf_test.iloc[1,0], df_rf_test.iloc[1,1], df_rf_test.iloc[1,2]],\n",
    "           'Neural Network Train':[acc_ann_train, roc_auc_ann_train, df_ann_train.iloc[1,0],df_ann_train.iloc[1,1], df_ann_train.iloc[1,2]],\n",
    "            'Neural Network Test':[acc_ann_test, roc_auc_ann_train, df_ann_test.iloc[1,0], df_ann_test.iloc[1,1], df_ann_test.iloc[1,2]]},\n",
    "                    index=index).T\n",
    "round(data,2)"
   ]
  },
  {
   "cell_type": "markdown",
   "id": "787273d1",
   "metadata": {},
   "source": [
    "CONCLUSION :\n",
    "I am selecting the RF model, as it has better accuracy, precsion, recall, f1 score better than other two CART & NN.¶"
   ]
  },
  {
   "cell_type": "code",
   "execution_count": null,
   "id": "246dd157",
   "metadata": {},
   "outputs": [],
   "source": []
  },
  {
   "cell_type": "code",
   "execution_count": null,
   "id": "018f6ee0",
   "metadata": {},
   "outputs": [],
   "source": []
  },
  {
   "cell_type": "code",
   "execution_count": null,
   "id": "5f4a5723",
   "metadata": {},
   "outputs": [],
   "source": []
  },
  {
   "cell_type": "markdown",
   "id": "cacc8a97",
   "metadata": {},
   "source": [
    "## 2.5 Inference: Based on the whole Analysis, what are the business insights and recommendations."
   ]
  },
  {
   "cell_type": "markdown",
   "id": "c228a55d",
   "metadata": {},
   "source": [
    "2.5 Based on your analysis and working on the business problem, detail out appropriate insights and recommendations to help the management solve the business objective.\\\n",
    "There should be at least 3-4 Recommendations and insights in total.\\\n",
    "Recommendations should be easily understandable and business specific, students should not give any technical suggestions.\\\n",
    "Full marks should only be allotted if the recommendations are correct and business specific.\\\n",
    "4.5"
   ]
  },
  {
   "cell_type": "code",
   "execution_count": null,
   "id": "9382d0fa",
   "metadata": {},
   "outputs": [],
   "source": []
  },
  {
   "cell_type": "markdown",
   "id": "2b5ff5dc",
   "metadata": {},
   "source": [
    "I strongly recommended we collect more real time unstructured data and past data if possible.\n",
    "\n",
    "This is understood by looking at the insurance data by drawing relations between different variables such as day of the incident, time, age group, and associating it with other external information such as location, behavior patterns, weather information, airline/vehicle types, etc.\n",
    "\n",
    "• Streamlining online experiences benefitted customers, leading to an increase in conversions, which subsequently raised profits. • As per the data 90% of insurance is done by online channel. • Other interesting fact, is almost all the offline business has a claimed associated, need to find why? • Need to train the JZI agency resources to pick up sales as they are in bottom, need to run promotional marketing campaign or evaluate if we need to tie up with alternate agency • Also based on the model we are getting 80%accuracy, so we need customer books airline tickets or plans, cross sell the insurance based on the claim data pattern. • Other interesting fact is more sales happen via Agency than Airlines and the trend shows the claim are processed more at Airline. So we may need to deep dive into the process to understand the workflow and why?\n",
    "\n",
    "Key performance indicators (KPI) The KPI’s of insurance claims are: • Reduce claims cycle time • Increase customer satisfaction • Combat fraud • Optimize claims recovery • Reduce claim handling costs Insights gained from data and AI-powered analytics could expand the boundaries of insurability, extend existing products, and give rise to new risk transfer solutions in areas like a non-damage business interruption and reputational damage."
   ]
  },
  {
   "cell_type": "code",
   "execution_count": null,
   "id": "8755e828",
   "metadata": {},
   "outputs": [],
   "source": []
  },
  {
   "cell_type": "markdown",
   "id": "745dddf1",
   "metadata": {},
   "source": [
    "\n",
    "Quality of Business Report (Please refer to the Evaluation Guidelines for Business report checklist. Marks in this criteria are at the moderator's discretion)\\\n",
    "6\\\n",
    "Please reflect on all that you learnt and fill this reflection report:https://docs.google.com/forms/d/e/1FAIpQLSd7e_bJVCiFpZAYbBTMtKrr9TLRnl8kuvZT7IsZ5MSjRtfjcQ/viewform?usp=sf_link \\\n",
    "0"
   ]
  },
  {
   "cell_type": "code",
   "execution_count": null,
   "id": "faa5687e",
   "metadata": {},
   "outputs": [],
   "source": []
  }
 ],
 "metadata": {
  "kernelspec": {
   "display_name": "Python 3 (ipykernel)",
   "language": "python",
   "name": "python3"
  },
  "language_info": {
   "codemirror_mode": {
    "name": "ipython",
    "version": 3
   },
   "file_extension": ".py",
   "mimetype": "text/x-python",
   "name": "python",
   "nbconvert_exporter": "python",
   "pygments_lexer": "ipython3",
   "version": "3.9.12"
  }
 },
 "nbformat": 4,
 "nbformat_minor": 5
}
